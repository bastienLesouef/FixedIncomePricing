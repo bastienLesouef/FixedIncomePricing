{
 "cells": [
  {
   "cell_type": "markdown",
   "id": "f3790098-1de1-454f-bbcc-03073fc3ce8b",
   "metadata": {},
   "source": [
    "# Modeling RMBS cash flow"
   ]
  },
  {
   "cell_type": "code",
   "execution_count": 83,
   "id": "d38ca50b-439c-437d-9e6f-e73378574cd2",
   "metadata": {},
   "outputs": [],
   "source": [
    "\n",
    "def mortgage_schedule_nn_prepayment(principal, annual_rate, years, payments_per_year=12):\n",
    "    \"\"\"\n",
    "        Returns the cash flow schedule of a mortgage loan\n",
    "\n",
    "    \"\"\"\n",
    "    r = annual_rate / payments_per_year\n",
    "    n = years * payments_per_year\n",
    "    payment = principal * r / (1 - (1 + r) ** -n)\n",
    "    CPR = 0.02\n",
    "    schedule = []\n",
    "    balance = principal\n",
    "    \n",
    "    for i in range(1, n + 1):\n",
    "        interest = balance * r\n",
    "        scheduled_principal = payment - interest\n",
    "        prepayment = CPR * balance\n",
    "        total_principal = scheduled_principal + prepayment\n",
    "        scheduled_balance = get_scheduled_balance(payment, r, n, i, payments_per_year)\n",
    "        balance -= total_principal\n",
    "        schedule.append(\n",
    "            [i, round(payment,3), round(interest,3), round(scheduled_principal,3), \n",
    "             round(prepayment,3), round(total_principal,3), \n",
    "             round(balance,3) if balance > 0 else 0, round(scheduled_balance,3)])\n",
    "    \n",
    "    cash_flow_df = pd.DataFrame(\n",
    "        schedule, \n",
    "        columns=[\"Period\", \"Payment\", \"Interest\", \"ScheduledPrincipal\",  \n",
    "                 \"Prepayment\", \"TotalPrincipal\", \"EndingBalance\", \"ScheduledBalance\"], \n",
    "        index = np.arange(1, years * payments_per_year + 1, 1))\n",
    "    \n",
    "    return cash_flow_df\n",
    "\n",
    "def get_scheduled_balance(paiement, rate, term, actual_term, period = 12):\n",
    "    \"\"\"\n",
    "    paiement: constant paiement\n",
    "    rate: annual rate\n",
    "    term: the maturity of the loan\n",
    "    actual_term: where we are in the loan life\n",
    "    period: number of paiements per year.\n",
    "    \"\"\"\n",
    "    return paiement/rate * (1 - (1 + rate)**(-(term-actual_term))) \n",
    "    \n",
    "\n",
    "def SMM(loan_cf):\n",
    "    pass\n",
    "    #smm_df = loan_cf[] loan_cf[EndingBalance] / loan_cf[]"
   ]
  },
  {
   "cell_type": "code",
   "execution_count": 84,
   "id": "9a27c37f-7699-49c1-ac85-e27ae3b0800d",
   "metadata": {},
   "outputs": [
    {
     "name": "stdout",
     "output_type": "stream",
     "text": [
      "    Period   Payment  Interest  ScheduledPrincipal  Prepayment  \\\n",
      "1        1  1013.371   750.000             263.371    4000.000   \n",
      "2        2  1013.371   734.012             279.358    3914.733   \n",
      "3        3  1013.371   718.285             295.086    3830.851   \n",
      "4        4  1013.371   702.812             310.558    3748.332   \n",
      "5        5  1013.371   687.591             325.779    3667.154   \n",
      "6        6  1013.371   672.618             340.753    3587.296   \n",
      "7        7  1013.371   657.888             355.483    3508.735   \n",
      "8        8  1013.371   643.397             369.974    3431.450   \n",
      "9        9  1013.371   629.142             384.229    3355.422   \n",
      "10      10  1013.371   615.118             398.253    3280.629   \n",
      "11      11  1013.371   601.322             412.049    3207.051   \n",
      "12      12  1013.371   587.750             425.620    3134.669   \n",
      "\n",
      "    TotalPrincipal  EndingBalance  ScheduledBalance  \n",
      "1         4263.371     195736.629        199736.629  \n",
      "2         4194.091     191542.539        199472.271  \n",
      "3         4125.937     187416.602        199206.922  \n",
      "4         4058.890     183357.711        198940.577  \n",
      "5         3992.933     179364.778        198673.233  \n",
      "6         3928.048     175436.730        198404.887  \n",
      "7         3864.217     171572.512        198135.535  \n",
      "8         3801.424     167771.088        197865.173  \n",
      "9         3739.651     164031.437        197593.797  \n",
      "10        3678.881     160352.556        197321.403  \n",
      "11        3619.100     156733.456        197047.987  \n",
      "12        3560.289     153173.167        196773.547  \n"
     ]
    }
   ],
   "source": [
    "mtg = mortgage_schedule_nn_prepayment(200000, 0.045, int(360/12))\n",
    "print(mtg.head(12))"
   ]
  },
  {
   "cell_type": "code",
   "execution_count": 85,
   "id": "fd8611e6-fd77-46e4-851c-4df6cd0e0e6d",
   "metadata": {},
   "outputs": [
    {
     "name": "stdout",
     "output_type": "stream",
     "text": [
      "22519.344022184967\n",
      "22519.34388318329\n"
     ]
    }
   ],
   "source": [
    "print(get_scheduled_balance(1013.37062, 0.045, 360, 1))\n",
    "print(get_scheduled_balance(1013.37062, 0.045, 360, 2))"
   ]
  },
  {
   "cell_type": "markdown",
   "id": "59dec9b1-858e-472c-b578-71a98bb8b8bd",
   "metadata": {},
   "source": [
    "# modeling prepayment"
   ]
  },
  {
   "cell_type": "markdown",
   "id": "5b2a7a7c-52e6-4db0-b226-ade9e9b80361",
   "metadata": {},
   "source": [
    "## Single Monthly Mortality Rate SMM\n",
    "\n",
    "The monthly prepayment rate, or single monthly mortality rate (SMM) measures the percentage of a pool’s principal balance that has prepaid in the current month. It is based on the change in thepool’s factor (survival factor) from one period to the next:"
   ]
  },
  {
   "cell_type": "code",
   "execution_count": 31,
   "id": "3ee6f578-117e-4a6d-b3d1-d86b1e363639",
   "metadata": {},
   "outputs": [],
   "source": [
    "def SMM(cash_flow):\n",
    "    smm_df = (cash_flow[\"ScheduledBalance\"] - cash_flow[\"EndingBalance\"]) / cash_flow[\"ScheduledBalance\"]\n",
    "    smm_df.index = cash_flow.index\n",
    "    return smm_df"
   ]
  },
  {
   "cell_type": "code",
   "execution_count": 32,
   "id": "c036b6a4-4ab1-4c3b-9de4-b39d814e586d",
   "metadata": {},
   "outputs": [
    {
     "name": "stdout",
     "output_type": "stream",
     "text": [
      "1     0.020026\n",
      "2     0.039754\n",
      "3     0.059186\n",
      "4     0.078329\n",
      "5     0.097187\n",
      "6     0.115764\n",
      "7     0.134065\n",
      "8     0.152094\n",
      "9     0.169855\n",
      "10    0.187353\n",
      "dtype: float64\n"
     ]
    }
   ],
   "source": [
    "print(SMM(mtg).head(10))"
   ]
  }
 ],
 "metadata": {
  "kernelspec": {
   "display_name": "Python 3 (ipykernel)",
   "language": "python",
   "name": "python3"
  },
  "language_info": {
   "codemirror_mode": {
    "name": "ipython",
    "version": 3
   },
   "file_extension": ".py",
   "mimetype": "text/x-python",
   "name": "python",
   "nbconvert_exporter": "python",
   "pygments_lexer": "ipython3",
   "version": "3.9.13"
  }
 },
 "nbformat": 4,
 "nbformat_minor": 5
}
