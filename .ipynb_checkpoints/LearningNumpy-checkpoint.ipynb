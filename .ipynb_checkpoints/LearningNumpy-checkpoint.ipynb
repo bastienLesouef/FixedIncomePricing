{
 "cells": [
  {
   "cell_type": "markdown",
   "id": "7a5c1a7e-4e99-4eb1-82b6-64aad1ced9ea",
   "metadata": {},
   "source": [
    "# Python for Data Analysis\n",
    "\n",
    "# 4 - NumPy Basics: Arrays and vectorized computation"
   ]
  },
  {
   "cell_type": "code",
   "execution_count": 5,
   "id": "e2c84f9d-5df4-4bf9-a186-4c0325c73f56",
   "metadata": {},
   "outputs": [],
   "source": [
    "import numpy as np"
   ]
  },
  {
   "cell_type": "code",
   "execution_count": 4,
   "id": "d93007ab-d701-488c-90f2-a3edbf6fdf8e",
   "metadata": {},
   "outputs": [
    {
     "name": "stdout",
     "output_type": "stream",
     "text": [
      "CPU times: user 915 µs, sys: 765 µs, total: 1.68 ms\n",
      "Wall time: 1.01 ms\n"
     ]
    }
   ],
   "source": [
    "my_array = np.arange(10000)\n",
    "\n",
    "%time for _ in range(10): my_array2 = my_array * 2 "
   ]
  },
  {
   "cell_type": "markdown",
   "id": "9bac46eb-8348-431f-a5d5-f9b3b5a12c55",
   "metadata": {},
   "source": [
    "## The numPy ndarray"
   ]
  },
  {
   "cell_type": "code",
   "execution_count": 10,
   "id": "abbfffe6-320e-4fae-aee8-5dc474da6a05",
   "metadata": {},
   "outputs": [
    {
     "name": "stdout",
     "output_type": "stream",
     "text": [
      "[[ 0.30866312  0.60364062 -0.14764508]\n",
      " [-0.84430265 -0.12692404  0.0925348 ]]\n",
      "-------------\n",
      "[[ 3.08663121  6.03640622 -1.47645077]\n",
      " [-8.44302654 -1.26924041  0.92534797]]\n",
      "-------------\n",
      "[[ 0.61732624  1.20728124 -0.29529015]\n",
      " [-1.68860531 -0.25384808  0.18506959]]\n",
      "-------------\n",
      "[[10.30866312 10.60364062  9.85235492]\n",
      " [ 9.15569735  9.87307596 10.0925348 ]]\n"
     ]
    }
   ],
   "source": [
    "# generate random data\n",
    "data = np.random.randn(2,3)\n",
    "print(data)\n",
    "\n",
    "# perform mathematical operation with data\n",
    "print('-------------')\n",
    "print(data*10)\n",
    "print('-------------')\n",
    "print(data + data)\n",
    "print('-------------')\n",
    "print(data + 10)"
   ]
  },
  {
   "cell_type": "markdown",
   "id": "5dc70edb-914c-43e3-be0b-40a20ae67e1d",
   "metadata": {},
   "source": [
    "An ndarray is a generic multidimensional container for homogeneous data; that is, all of the elements must be the same type. Every array has a shape, a tuple indicating the size of each dimension, and a dtype, an object describing the data type of the array:"
   ]
  },
  {
   "cell_type": "code",
   "execution_count": 11,
   "id": "f3770355-5928-42e0-a495-208c31cb5b9c",
   "metadata": {},
   "outputs": [
    {
     "name": "stdout",
     "output_type": "stream",
     "text": [
      "(2, 3)\n",
      "float64\n"
     ]
    }
   ],
   "source": [
    "# generate random data\n",
    "data = np.random.randn(2,3)\n",
    "\n",
    "print(data.shape)\n",
    "print(data.dtype)"
   ]
  },
  {
   "cell_type": "markdown",
   "id": "aac94e18-9f9b-4724-86bd-0e301474d244",
   "metadata": {},
   "source": [
    "## Creating ndarrays\n",
    "\n",
    "The easiest way to create an array is to use the array function. This accepts any sequence-like object (including other arrays) and produces a new NumPy array containing the passed data."
   ]
  },
  {
   "cell_type": "code",
   "execution_count": 15,
   "id": "88d41284-c165-4629-860f-ecfeb45527e1",
   "metadata": {},
   "outputs": [
    {
     "name": "stdout",
     "output_type": "stream",
     "text": [
      "[6.  7.5 8.  0.  1. ]\n",
      "[[1 2 3 4]\n",
      " [5 6 7 8]]\n",
      "2\n",
      "(2, 4)\n",
      "float64\n",
      "int64\n"
     ]
    }
   ],
   "source": [
    "# create a list\n",
    "data1 = [6, 7.5, 8, 0, 1]\n",
    "\n",
    "# from the list to the np array\n",
    "arr1 = np.array(data1)\n",
    "print(arr1)\n",
    "\n",
    "data2 = [\n",
    "    [1,2,3,4],\n",
    "    [5,6,7,8]\n",
    "]\n",
    "\n",
    "arr2 = np.array(data2)\n",
    "print(arr2)\n",
    "\n",
    "# Since data2 was a list of lists, the NumPy array arr2 has two dimensions with shape\n",
    "# inferred from the data. We can confirm this by inspecting the ndim and shape\n",
    "# attributes:\n",
    "print(arr2.ndim)\n",
    "print(arr2.shape)\n",
    "\n",
    "# Unless explicitly specified (more on this later), np.array tries to infer a good data\n",
    "# type for the array that it creates. The data type is stored in a special dtype metadata\n",
    "# object:\n",
    "print(arr1.dtype)\n",
    "print(arr2.dtype)"
   ]
  },
  {
   "cell_type": "markdown",
   "id": "b856e1d8-3531-4312-a944-69194582aa7f",
   "metadata": {},
   "source": [
    "## Other ways for creating arrays\n",
    "\n",
    "In addition to np.array, there are a number of other functions for creating new arrays. As examples, zeros and ones create arrays of 0s or 1s, respectively, with a given length or shape. empty creates an array without initializing its values to any particular value. To create a higher dimensional array with these methods, pass a tuple for the shape.\n",
    "\n",
    "N.B it’s not safe to assume that np.empty will return an array of all zeros. In some cases, it may return uninitialized “garbage” values."
   ]
  },
  {
   "cell_type": "code",
   "execution_count": 20,
   "id": "d96b45ac-c57d-4426-9ad8-934b732c02a3",
   "metadata": {},
   "outputs": [
    {
     "name": "stdout",
     "output_type": "stream",
     "text": [
      "[0. 0. 0. 0. 0. 0. 0. 0. 0. 0.]\n",
      "-----------------\n",
      "[[0. 0. 0. 0. 0. 0.]\n",
      " [0. 0. 0. 0. 0. 0.]\n",
      " [0. 0. 0. 0. 0. 0.]]\n",
      "-----------------\n",
      "[[[0. 0.]\n",
      "  [0. 0.]\n",
      "  [0. 0.]]\n",
      "\n",
      " [[0. 0.]\n",
      "  [0. 0.]\n",
      "  [0. 0.]]]\n",
      "[ 0  1  2  3  4  5  6  7  8  9 10 11 12 13 14]\n"
     ]
    }
   ],
   "source": [
    "print(np.zeros(10))\n",
    "print('-----------------')\n",
    "print(np.zeros((3,6)))\n",
    "print('-----------------')\n",
    "print(np.empty((2,3,2)))\n",
    "\n",
    "# arange is an array-valued version of the built-in Python range function:\n",
    "print(np.arange(15))"
   ]
  },
  {
   "cell_type": "markdown",
   "id": "b0fe6cb6-8c02-478b-9423-cc06ea443679",
   "metadata": {},
   "source": [
    "## Data Types for ndarrays\n",
    "\n",
    "The data type or dtype is a special object containing the information (or metadata, data about data) the ndarray needs to interpret a chunk of memory as a particular type of data.\n",
    "\n",
    "N.B The numerical dtypes are named the same way: a type name, like float or int, followed by a number indicating the number of bits per element."
   ]
  },
  {
   "cell_type": "code",
   "execution_count": 21,
   "id": "4aaabd34-8105-4dc1-8c71-1f27a5e1b4f6",
   "metadata": {},
   "outputs": [
    {
     "name": "stdout",
     "output_type": "stream",
     "text": [
      "float64\n",
      "int32\n"
     ]
    }
   ],
   "source": [
    "arr1 = np.array([1,2,3], dtype = np.float64)\n",
    "arr2 = np.array([1,2,3], dtype = np.int32)\n",
    "\n",
    "print(arr1.dtype)\n",
    "print(arr2.dtype)"
   ]
  },
  {
   "cell_type": "markdown",
   "id": "bb0dda47-bd8c-4560-b901-ec7ad0c7a424",
   "metadata": {},
   "source": [
    "You can explicitly convert or cast an array from one dtype to another using ndarray’s astype method:"
   ]
  },
  {
   "cell_type": "code",
   "execution_count": 22,
   "id": "91170045-7d36-4507-8906-49c0fe6fc239",
   "metadata": {},
   "outputs": [
    {
     "name": "stdout",
     "output_type": "stream",
     "text": [
      "int64\n",
      "float64\n"
     ]
    }
   ],
   "source": [
    "arr = np.array([1,2,3,4,5])\n",
    "print(arr.dtype)\n",
    "\n",
    "float_arr = arr.astype(np.float64)\n",
    "print(float_arr.dtype)"
   ]
  },
  {
   "cell_type": "markdown",
   "id": "ec3e64a7-d58a-43af-afdd-52ab34345755",
   "metadata": {},
   "source": [
    "If you have an array of strings representing numbers, you can use astype to convert them to numeric form:\n",
    "\n",
    "N.B It’s important to be cautious when using the numpy.string_ type, as string data in NumPy is fixed size and may truncate input without warning. pandas has more intuitive out-of-the-box behavior on non-numeric data."
   ]
  },
  {
   "cell_type": "code",
   "execution_count": 23,
   "id": "6947f5cd-cb9d-4bda-bf65-c53af29213de",
   "metadata": {},
   "outputs": [
    {
     "name": "stdout",
     "output_type": "stream",
     "text": [
      "[ 1.25 -9.6  42.  ]\n"
     ]
    }
   ],
   "source": [
    "numeric_strings = np.array(['1.25', '-9.6', '42'], dtype=np.string_)\n",
    "print(numeric_strings.astype(float))"
   ]
  },
  {
   "cell_type": "markdown",
   "id": "1a1821ce-a04f-46b1-b1ef-6a040fa7d58a",
   "metadata": {},
   "source": [
    "You can also use another array’s dtype attribute:"
   ]
  },
  {
   "cell_type": "code",
   "execution_count": 25,
   "id": "5e51975e-30c2-4b2d-918c-378aaff9b360",
   "metadata": {},
   "outputs": [
    {
     "name": "stdout",
     "output_type": "stream",
     "text": [
      "int64\n"
     ]
    }
   ],
   "source": [
    "int_array = np.arange(10)\n",
    "calibers = np.array([.22, .270, .357, .380, .44, .50], dtype=np.float64)\n",
    "int_array.astype(calibers.dtype)\n",
    "print(int_array.dtype)"
   ]
  },
  {
   "cell_type": "markdown",
   "id": "3126fdcd-91f3-4295-8306-1383f9adc170",
   "metadata": {},
   "source": [
    "## Arithmetic with NumPy Arrays\n",
    "\n",
    "Arrays are important because they enable you to express batch operations on data without writing any for loops. NumPy users call this vectorization. Any arithmetic operations between equal-size arrays applies the operation element-wise:"
   ]
  },
  {
   "cell_type": "code",
   "execution_count": 27,
   "id": "2b481dad-beb8-4a36-adb4-dc9bf98ba7b4",
   "metadata": {},
   "outputs": [
    {
     "name": "stdout",
     "output_type": "stream",
     "text": [
      "[[1. 2. 3.]\n",
      " [4. 5. 6.]]\n",
      "--------------------\n",
      "[[ 1.  4.  9.]\n",
      " [16. 25. 36.]]\n",
      "--------------------\n",
      "[[0. 0. 0.]\n",
      " [0. 0. 0.]]\n",
      "--------------------\n",
      "[[1.         0.5        0.33333333]\n",
      " [0.25       0.2        0.16666667]]\n",
      "--------------------\n",
      "[[1.         1.41421356 1.73205081]\n",
      " [2.         2.23606798 2.44948974]]\n",
      "--------------------\n",
      "[[False  True False]\n",
      " [ True False  True]]\n"
     ]
    }
   ],
   "source": [
    "arr = np.array([[1., 2., 3.], [4., 5., 6.]])\n",
    "\n",
    "print(arr)\n",
    "\n",
    "print('--------------------')\n",
    "print(arr * arr)\n",
    "\n",
    "print('--------------------')\n",
    "print(arr - arr)\n",
    "\n",
    "print('--------------------')\n",
    "print(1 / arr)\n",
    "\n",
    "print('--------------------')\n",
    "print(arr ** 0.5)\n",
    "\n",
    "arr2 = np.array([[0., 4., 1.], [7., 2., 12.]])\n",
    "\n",
    "print('--------------------')\n",
    "print(arr2 > arr)"
   ]
  },
  {
   "cell_type": "markdown",
   "id": "8d8005ea-77c6-4cd3-aa7a-7d07463430b8",
   "metadata": {},
   "source": [
    "## Basic Indexing and Slicing\n",
    "\n",
    "NumPy array indexing is a rich topic, as there are many ways you may want to select a subset of your data or individual elements. One-dimensional arrays are simple; on the surface they act similarly to Python lists:"
   ]
  },
  {
   "cell_type": "code",
   "execution_count": 30,
   "id": "c01d0ad8-bcab-46c0-9a85-f06ba8438f53",
   "metadata": {},
   "outputs": [
    {
     "name": "stdout",
     "output_type": "stream",
     "text": [
      "[0 1 2 3 4 5 6 7 8 9]\n",
      "5\n",
      "[5 6 7]\n",
      "[ 0  1  2  3  4 12 12 12  8  9]\n"
     ]
    }
   ],
   "source": [
    "arr = np.arange(10)\n",
    "\n",
    "print(arr)\n",
    "print(arr[5])\n",
    "print(arr[5:8])\n",
    "\n",
    "# change data\n",
    "arr[5:8] = 12\n",
    "\n",
    "print(arr)"
   ]
  },
  {
   "cell_type": "markdown",
   "id": "c1ee63c7-06aa-4a15-99d8-fa84e34a8f5c",
   "metadata": {},
   "source": [
    "An important first distinction from Python’s built-in lists is that array slices are views on the original array. This means that the data is not copied, and any modifications to the view will be reflected in the source array."
   ]
  },
  {
   "cell_type": "code",
   "execution_count": 35,
   "id": "864de96b-0dd7-436a-a4e8-301d6d518dc4",
   "metadata": {},
   "outputs": [
    {
     "name": "stdout",
     "output_type": "stream",
     "text": [
      "[ 0  1  2  3  4 12 12 12  8  9]\n",
      "[12 12 12]\n",
      "[    0     1     2     3     4    12 12345    12     8     9]\n",
      "[1 1 1]\n",
      "[0 1 2 3 4 1 1 1 8 9]\n"
     ]
    }
   ],
   "source": [
    "arr = np.arange(10)\n",
    "arr[5:8] = 12\n",
    "print(arr)\n",
    "\n",
    "arr_slice = arr[5:8]\n",
    "print(arr_slice)\n",
    "\n",
    "# change the value of arr_slice\n",
    "arr_slice[1] = 12345\n",
    "\n",
    "# it change the value of the original arr\n",
    "print(arr)\n",
    "\n",
    "# change all the value of arr_slice with a scalar\n",
    "arr_slice[:] = 1\n",
    "print(arr_slice)\n",
    "print(arr)"
   ]
  },
  {
   "cell_type": "markdown",
   "id": "0fbe2180-2173-4ace-ab70-fb0efb867043",
   "metadata": {},
   "source": [
    "If you want a copy of a slice of an ndarray instead of a view, you will need to explicitly copy the array. For example, arr[5:8].copy()."
   ]
  },
  {
   "cell_type": "code",
   "execution_count": 36,
   "id": "1c26e6e8-b71d-4d91-8a3d-3cb3397eb11d",
   "metadata": {},
   "outputs": [
    {
     "name": "stdout",
     "output_type": "stream",
     "text": [
      "[0 1 2 3 4 5 6 7 8 9]\n",
      "[1 1 1]\n"
     ]
    }
   ],
   "source": [
    "arr = np.arange(10)\n",
    "arr_slice = arr[5:8].copy()\n",
    "arr_slice[:] = 1\n",
    "\n",
    "# with the copy this does not affect the original array.\n",
    "print(arr)\n",
    "print(arr_slice)"
   ]
  },
  {
   "cell_type": "markdown",
   "id": "bebefee1-a890-4652-9073-f302e39423ed",
   "metadata": {},
   "source": [
    "With higher dimensional arrays, you have many more options. In a two-dimensional array, the elements at each index are no longer scalars but rather one-dimensional arrays:"
   ]
  },
  {
   "cell_type": "code",
   "execution_count": 38,
   "id": "4fd90281-9755-4489-81b5-0c740459030c",
   "metadata": {},
   "outputs": [
    {
     "name": "stdout",
     "output_type": "stream",
     "text": [
      "[7 8 9]\n"
     ]
    }
   ],
   "source": [
    "arr2d = np.array([[1, 2, 3], [4, 5, 6], [7, 8, 9]])\n",
    "print(arr2d[2])"
   ]
  },
  {
   "cell_type": "markdown",
   "id": "7ec04b25-00e6-4772-913e-512ac2c290a5",
   "metadata": {},
   "source": [
    "Thus, individual elements can be accessed recursively. But that is a bit too much work, so you can pass a comma-separated list of indices to select individual elements. So these are equivalent:"
   ]
  },
  {
   "cell_type": "code",
   "execution_count": 42,
   "id": "4019644e-4ecb-4bbf-953c-850375eafdd5",
   "metadata": {},
   "outputs": [
    {
     "name": "stdout",
     "output_type": "stream",
     "text": [
      "3\n",
      "3\n",
      "--------------\n",
      "[[1 2 3]\n",
      " [4 5 6]]\n",
      "--------------\n",
      "[[2 3]\n",
      " [5 6]]\n",
      "--------------\n",
      "[[1]\n",
      " [4]\n",
      " [7]]\n"
     ]
    }
   ],
   "source": [
    "# below does the same\n",
    "print(arr2d[0][2])\n",
    "print(arr2d[0,2])\n",
    "\n",
    "#\n",
    "print('--------------')\n",
    "print(arr2d[:2])\n",
    "print('--------------')\n",
    "print(arr2d[:2, 1:])\n",
    "print('--------------')\n",
    "print(arr2d[:, :1])"
   ]
  },
  {
   "cell_type": "markdown",
   "id": "58efc76b-779a-4a9d-a777-b3f68c07459b",
   "metadata": {},
   "source": [
    "## Boolean Indexing\n",
    "\n",
    "Let’s consider an example where we have some data in an array and an array of names with duplicates. I’m going to use here the randn function in numpy.random to generate some random normally distributed data:\n",
    "\n",
    "The boolean array must be of the same length as the array axis it’s indexing. You can even mix and match boolean arrays with slices or integers.\n",
    "\n",
    "BE CAREFUL ! Boolean selection will not fail if the boolean array is not the correct length, so I recommend care when using this feature."
   ]
  },
  {
   "cell_type": "code",
   "execution_count": 43,
   "id": "9458f184-6b82-4586-ad38-c7ad087627f6",
   "metadata": {},
   "outputs": [],
   "source": [
    "names = np.array(['Bob', 'Joe', 'Will', 'Bob', 'Will', 'Joe', 'Joe'])\n",
    "data = np.random.randn(7, 4)"
   ]
  },
  {
   "cell_type": "markdown",
   "id": "4e6fd0ab-fecb-4377-a1f5-eb3d35ba36d3",
   "metadata": {},
   "source": [
    "Suppose each name corresponds to a row in the data array and we wanted to select all the rows with corresponding name 'Bob'. Like arithmetic operations, comparisons (such as ==) with arrays are also vectorized. Thus, comparing names with the string 'Bob' yields a boolean array:"
   ]
  },
  {
   "cell_type": "code",
   "execution_count": 45,
   "id": "dcf9dd3c-c00d-4df6-86d0-7261c39f12ab",
   "metadata": {},
   "outputs": [
    {
     "name": "stdout",
     "output_type": "stream",
     "text": [
      "[ True False False  True False False False]\n",
      "[[-2.30676709  0.66112755 -0.19758285 -1.79582423]\n",
      " [ 0.6230072   1.26746853 -0.39239588  0.33439881]]\n"
     ]
    }
   ],
   "source": [
    "print(names=='Bob')\n",
    "\n",
    "# This boolean array can be passed when indexing the array:\n",
    "print(data[names=='Bob'])"
   ]
  },
  {
   "cell_type": "code",
   "execution_count": 46,
   "id": "0b3c6768-f6d7-4737-b908-21698aadd72b",
   "metadata": {},
   "outputs": [
    {
     "name": "stdout",
     "output_type": "stream",
     "text": [
      "[[-0.90702414 -0.36979625  0.99454312 -0.50102561]\n",
      " [-0.36998871  0.22345447 -1.94221833 -0.52415139]\n",
      " [-0.50531811  0.1627571   1.17590081 -0.74927422]\n",
      " [-2.31293622 -0.02141303 -0.90012725  0.43602576]\n",
      " [ 0.72465754 -1.35465816 -0.83743054 -1.79682876]]\n",
      "--------------------------\n",
      "[[-0.90702414 -0.36979625  0.99454312 -0.50102561]\n",
      " [-0.36998871  0.22345447 -1.94221833 -0.52415139]\n",
      " [-0.50531811  0.1627571   1.17590081 -0.74927422]\n",
      " [-2.31293622 -0.02141303 -0.90012725  0.43602576]\n",
      " [ 0.72465754 -1.35465816 -0.83743054 -1.79682876]]\n"
     ]
    }
   ],
   "source": [
    "# if we want to select all raw that does not contain 'Bob' we can do both:\n",
    "print(data[~(names == 'Bob')])\n",
    "print('--------------------------')\n",
    "print(data[names != 'Bob'])"
   ]
  },
  {
   "cell_type": "code",
   "execution_count": 47,
   "id": "e9a50705-4844-4375-8030-a1728bab99f9",
   "metadata": {},
   "outputs": [
    {
     "name": "stdout",
     "output_type": "stream",
     "text": [
      "[[ 0.99454312 -0.50102561]\n",
      " [-1.94221833 -0.52415139]\n",
      " [ 1.17590081 -0.74927422]\n",
      " [-0.90012725  0.43602576]\n",
      " [-0.83743054 -1.79682876]]\n"
     ]
    }
   ],
   "source": [
    "# we can also index the columns:\n",
    "print(data[names != 'Bob', 2:])"
   ]
  },
  {
   "cell_type": "markdown",
   "id": "1897f043-b28c-4d28-8157-d8cc72f2d360",
   "metadata": {},
   "source": [
    "## Transposing Arrays and Swapping Axes\n",
    "\n",
    "Transposing is a special form of reshaping that similarly returns a view on the underlying data without copying anything. Arrays have the transpose method and also the special T attribute:"
   ]
  },
  {
   "cell_type": "code",
   "execution_count": 49,
   "id": "100df074-5392-4678-ad58-649c75edd3ce",
   "metadata": {},
   "outputs": [
    {
     "name": "stdout",
     "output_type": "stream",
     "text": [
      "[[ 0  1  2  3  4]\n",
      " [ 5  6  7  8  9]\n",
      " [10 11 12 13 14]]\n",
      "--------------\n",
      "[[ 0  5 10]\n",
      " [ 1  6 11]\n",
      " [ 2  7 12]\n",
      " [ 3  8 13]\n",
      " [ 4  9 14]]\n"
     ]
    }
   ],
   "source": [
    "arr = np.arange(15).reshape((3, 5))\n",
    "print(arr)\n",
    "print('--------------')\n",
    "print(arr.T)"
   ]
  },
  {
   "cell_type": "markdown",
   "id": "549119df-fcc3-4040-8aa7-b1be9020c952",
   "metadata": {},
   "source": [
    "When doing matrix computations, you may do this very often—for example, when computing the inner matrix product using np.dot:"
   ]
  },
  {
   "cell_type": "code",
   "execution_count": 50,
   "id": "3809495e-c92a-46ec-9310-82a3f56392a5",
   "metadata": {},
   "outputs": [
    {
     "name": "stdout",
     "output_type": "stream",
     "text": [
      "[[ 1.36519194 -0.58782988 -0.79107654]\n",
      " [-0.57134459 -0.34920615 -0.12882891]\n",
      " [ 0.71488701  0.7153564  -0.60466471]\n",
      " [-0.29979244 -0.50572186 -1.16298613]\n",
      " [ 0.52555061  0.45221632  0.74376858]\n",
      " [ 0.78171093 -0.77040044  0.08912808]]\n",
      "-----------------\n",
      "[[ 3.67839804 -0.30454088 -0.62941768]\n",
      " [-0.30454088  2.03299471  0.933283  ]\n",
      " [-0.62941768  0.933283    2.92169064]]\n"
     ]
    }
   ],
   "source": [
    "arr = np.random.randn(6, 3)\n",
    "print(arr)\n",
    "print('-----------------')\n",
    "print(np.dot(arr.T,arr))"
   ]
  },
  {
   "cell_type": "markdown",
   "id": "df5be666-3aa3-480e-a584-e5e4e8c89499",
   "metadata": {},
   "source": [
    "## Expressing Conditional Logic as Array Operations\n",
    "\n",
    "The numpy.where function is a vectorized version of the ternary expression x if con dition else y. Suppose we had a boolean array and two arrays of values:"
   ]
  },
  {
   "cell_type": "code",
   "execution_count": 51,
   "id": "a2bbc34a-835f-4ba9-9eae-55cd32dd7b44",
   "metadata": {},
   "outputs": [],
   "source": [
    "xarr = np.array([1.1, 1.2, 1.3, 1.4, 1.5])\n",
    "yarr = np.array([2.1, 2.2, 2.3, 2.4, 2.5])\n",
    "cond = np.array([True, False, True, True, False])"
   ]
  },
  {
   "cell_type": "markdown",
   "id": "2db26056-5077-4450-af8b-dc6fd4889fd9",
   "metadata": {},
   "source": [
    "Suppose we wanted to take a value from xarr whenever the corresponding value in cond is True, and otherwise take the value from yarr. A list comprehension doing this might look like:"
   ]
  },
  {
   "cell_type": "code",
   "execution_count": 56,
   "id": "9bae9edc-625e-4553-97fe-b7a052ec271d",
   "metadata": {},
   "outputs": [
    {
     "name": "stdout",
     "output_type": "stream",
     "text": [
      "[1.1, 2.2, 1.3, 1.4, 2.5]\n",
      "(1.1, 2.1, True)\n",
      "(1.2, 2.2, False)\n",
      "(1.3, 2.3, True)\n",
      "(1.4, 2.4, True)\n",
      "(1.5, 2.5, False)\n"
     ]
    }
   ],
   "source": [
    "result = [(x if c else y) for x,y,c in zip(xarr, yarr, cond)]\n",
    "print(result)"
   ]
  },
  {
   "cell_type": "markdown",
   "id": "9b1dc695-c850-4f3b-b6d2-157645cbe679",
   "metadata": {},
   "source": [
    "This has multiple problems. First, it will not be very fast for large arrays (because all the work is being done in interpreted Python code). Second, it will not work with multidimensional arrays. With np.where you can write this very concisely:"
   ]
  },
  {
   "cell_type": "code",
   "execution_count": 57,
   "id": "fb5608b3-c7b3-40c6-8b5b-05e9007bb0d0",
   "metadata": {},
   "outputs": [
    {
     "name": "stdout",
     "output_type": "stream",
     "text": [
      "[1.1 2.2 1.3 1.4 2.5]\n"
     ]
    }
   ],
   "source": [
    "result = np.where(cond, xarr, yarr)\n",
    "print(result)"
   ]
  },
  {
   "cell_type": "markdown",
   "id": "f3ddf259-3ba1-46a4-a39a-0773fa954df1",
   "metadata": {},
   "source": [
    "The second and third arguments to np.where don’t need to be arrays; one or both of them can be scalars. A typical use of where in data analysis is to produce a new array of values based on another array. Suppose you had a matrix of randomly generated data and you wanted to replace all positive values with 2 and all negative values with –2. This is very easy to do with np.where:"
   ]
  },
  {
   "cell_type": "code",
   "execution_count": 61,
   "id": "5d3fe413-e267-4b6b-8c1a-bea61da9d36f",
   "metadata": {},
   "outputs": [
    {
     "name": "stdout",
     "output_type": "stream",
     "text": [
      "[[ 1.07071422 -0.52000655  0.09927665  0.77767562]\n",
      " [-0.46008574 -0.59331577  1.47058791  0.17063704]\n",
      " [-1.95720598 -2.045679    1.54317455  0.37189478]\n",
      " [-0.60901776  0.91900674 -1.38607676  0.28316172]]\n",
      "---------------------\n",
      "[[ 4 -4  4  4]\n",
      " [-4 -4  4  4]\n",
      " [-4 -4  4  4]\n",
      " [-4  4 -4  4]]\n"
     ]
    }
   ],
   "source": [
    "arr = np.random.randn(4, 4)\n",
    "print(arr)\n",
    "print('---------------------')\n",
    "print(np.where(arr>0,4,-4))"
   ]
  },
  {
   "cell_type": "markdown",
   "id": "29da1599-452e-472e-ba21-334fc904d713",
   "metadata": {},
   "source": [
    "You can combine scalars and arrays when using np.where. For example, I can replace all positive values in arr with the constant 2 like so:"
   ]
  },
  {
   "cell_type": "code",
   "execution_count": 62,
   "id": "4d2f2bac-fa22-49dc-9ec2-b4e7fc4218f4",
   "metadata": {},
   "outputs": [
    {
     "name": "stdout",
     "output_type": "stream",
     "text": [
      "[[ 2.         -0.52000655  2.          2.        ]\n",
      " [-0.46008574 -0.59331577  2.          2.        ]\n",
      " [-1.95720598 -2.045679    2.          2.        ]\n",
      " [-0.60901776  2.         -1.38607676  2.        ]]\n"
     ]
    }
   ],
   "source": [
    "print(np.where(arr > 0, 2, arr))"
   ]
  },
  {
   "cell_type": "markdown",
   "id": "c7e723c8-eef7-429d-ad0b-fa66af61309e",
   "metadata": {},
   "source": [
    "## Linear Algebra\n",
    "\n",
    "Linear algebra, like matrix multiplication, decompositions, determinants, and other square matrix math, is an important part of any array library. Unlike some languages like MATLAB, multiplying two two-dimensional arrays with * is an element-wise product instead of a matrix dot product. Thus, there is a function dot, both an array method and a function in the numpy namespace, for matrix multiplication:"
   ]
  },
  {
   "cell_type": "code",
   "execution_count": 66,
   "id": "07202469-d542-4965-8276-9666740e6b3b",
   "metadata": {},
   "outputs": [
    {
     "name": "stdout",
     "output_type": "stream",
     "text": [
      "[[1. 2. 3.]\n",
      " [4. 5. 6.]]\n",
      "------------\n",
      "[[ 6. 23.]\n",
      " [-1.  7.]\n",
      " [ 8.  9.]]\n",
      "------------\n",
      "[[ 28.  64.]\n",
      " [ 67. 181.]]\n",
      "------------\n",
      "[[ 28.  64.]\n",
      " [ 67. 181.]]\n",
      "------------\n",
      "[[ 28.  64.]\n",
      " [ 67. 181.]]\n"
     ]
    }
   ],
   "source": [
    "x = np.array([[1., 2., 3.], [4., 5., 6.]])\n",
    "y = np.array([[6., 23.], [-1, 7], [8, 9]])\n",
    "\n",
    "print(x)\n",
    "print('------------')\n",
    "print(y)\n",
    "print('------------')\n",
    "print(x.dot(y))\n",
    "\n",
    "# x.dot(y) is equivalent to np.dot(x, y):\n",
    "print('------------')\n",
    "print(np.dot(x,y))\n",
    "\n",
    "# The @ symbol (as of Python 3.5) also works as an infix operator that performs matrix multiplication:\n",
    "print('------------')\n",
    "print(x @ y)\n"
   ]
  },
  {
   "cell_type": "markdown",
   "id": "a90ca387-2bd0-45ab-beac-3a24c22f0904",
   "metadata": {},
   "source": [
    "## Mathematical and Statistical Methods\n",
    "\n",
    "A set of mathematical functions that compute statistics about an entire array or about the data along an axis are accessible as methods of the array class. You can use aggregations (often called reductions) like sum, mean, and std (standard deviation) either by calling the array instance method or using the top-level NumPy function."
   ]
  },
  {
   "cell_type": "code",
   "execution_count": 76,
   "id": "dc6ae01a-6ee5-4cc3-9399-e67ce1359776",
   "metadata": {},
   "outputs": [
    {
     "name": "stdout",
     "output_type": "stream",
     "text": [
      "[[ 0.98901279  0.77476761  0.10872748  0.04316502]\n",
      " [ 1.45163797  0.76906582  0.78409005  0.46900218]\n",
      " [-0.47774563  2.62752797 -0.64191752  0.38302881]\n",
      " [ 0.13914154  0.53621198 -0.08723251  1.75176446]\n",
      " [-0.01436486 -0.4739652   0.7264389  -0.92891205]]\n",
      "----- statistic -----\n",
      "0.44647224112351774\n",
      "0.44647224112351774\n",
      "8.929444822470355\n"
     ]
    }
   ],
   "source": [
    "arr = np.random.randn(5, 4)\n",
    "print(arr)\n",
    "print('----- statistic -----')\n",
    "print(arr.mean())\n",
    "print(np.mean(arr))\n",
    "print(arr.sum())\n"
   ]
  },
  {
   "cell_type": "markdown",
   "id": "6796478e-26fe-405d-8bff-c3d3784e06f1",
   "metadata": {},
   "source": [
    "Functions like mean and sum take an optional axis argument that computes the statistic over the given axis, resulting in an array with one fewer dimension:\n",
    "\n",
    "Here, arr.mean(1) means “compute mean across the columns” where arr.sum(0) means “compute sum down the rows.”"
   ]
  },
  {
   "cell_type": "code",
   "execution_count": 77,
   "id": "9c092364-acb5-4ee8-b108-77010827b1cf",
   "metadata": {},
   "outputs": [
    {
     "name": "stdout",
     "output_type": "stream",
     "text": [
      "[ 0.47891823  0.86844901  0.47272341  0.58497137 -0.1727008 ]\n",
      "[2.08768182 4.23360818 0.8901064  1.71804842]\n"
     ]
    }
   ],
   "source": [
    "print(arr.mean(axis=1))\n",
    "print(arr.sum(axis=0))"
   ]
  },
  {
   "cell_type": "markdown",
   "id": "00daf785-8b36-4f60-812f-a8c3865dd00b",
   "metadata": {},
   "source": [
    "Other methods like cumsum and cumprod do not aggregate, instead producing an array of the intermediate results:"
   ]
  },
  {
   "cell_type": "code",
   "execution_count": null,
   "id": "96b5a2bb-2076-46eb-82df-9a5a5c6a7eb3",
   "metadata": {},
   "outputs": [],
   "source": [
    "arr = np.array([0, 1, 2, 3, 4, 5, 6, 7])\n",
    "print(arr.cumsum())"
   ]
  },
  {
   "cell_type": "markdown",
   "id": "b6488b06-8c0b-48b0-9998-28836675abe3",
   "metadata": {},
   "source": [
    "In multidimensional arrays, accumulation functions like cumsum return an array of the same size, but with the partial aggregates computed along the indicated axis according to each lower dimensional slice:"
   ]
  },
  {
   "cell_type": "markdown",
   "id": "24320c2b-2124-4c90-be42-06920017d306",
   "metadata": {},
   "source": [
    "## Pseudorandom number generation"
   ]
  },
  {
   "cell_type": "markdown",
   "id": "7c8ac855-be26-448d-89fe-48b060ada1e9",
   "metadata": {},
   "source": [
    "The numpy.random module supplements the built-in Python random with functions for efficiently generating whole arrays of sample values from many kinds of probability distributions. For example, you can get a 4 × 4 array of samples from the standard normal distribution using normal:"
   ]
  },
  {
   "cell_type": "code",
   "execution_count": 79,
   "id": "f6ede940-a003-4d0b-bb6e-d807b115ec2e",
   "metadata": {},
   "outputs": [
    {
     "name": "stdout",
     "output_type": "stream",
     "text": [
      "[[0 1 2]\n",
      " [3 4 5]\n",
      " [6 7 8]]\n",
      "----------\n",
      "[[ 0  1  2]\n",
      " [ 3  5  7]\n",
      " [ 9 12 15]]\n",
      "----------\n",
      "[[  0   0   0]\n",
      " [  3  12  60]\n",
      " [  6  42 336]]\n"
     ]
    }
   ],
   "source": [
    "arr = np.array([[0, 1, 2], [3, 4, 5], [6, 7, 8]])\n",
    "print(arr)\n",
    "print('----------')\n",
    "print(arr.cumsum(axis=0))\n",
    "print('----------')\n",
    "print(arr.cumprod(axis=1))"
   ]
  },
  {
   "cell_type": "code",
   "execution_count": 67,
   "id": "50432873-c331-4114-9597-48afc3a58ef5",
   "metadata": {},
   "outputs": [
    {
     "name": "stdout",
     "output_type": "stream",
     "text": [
      "[[ 0.35706229 -0.73666949  1.19438764  2.21110139]\n",
      " [-1.04532659  0.22741627 -0.59493315 -0.14117572]\n",
      " [ 0.2456588   0.23331696 -0.4968289   0.7908206 ]\n",
      " [ 0.24595861 -0.35114097  0.45021905  1.92509854]]\n"
     ]
    }
   ],
   "source": [
    "samples = np.random.normal(size=(4, 4))\n",
    "print(samples)"
   ]
  },
  {
   "cell_type": "markdown",
   "id": "63e93e7d-28b8-402d-9703-1905ee612ecf",
   "metadata": {},
   "source": [
    "### Examle: Random Walks\n",
    "\n",
    "You might make the observation that walk is simply the cumulative sum of the random steps and could be evaluated as an array expression. Thus, I use the np.random module to draw 1,000 coin flips at once, set these to 1 and –1, and compute the cumulative sum:"
   ]
  },
  {
   "cell_type": "code",
   "execution_count": 72,
   "id": "3b300c1f-e49b-4987-8c29-4c9f5387f0b5",
   "metadata": {},
   "outputs": [
    {
     "data": {
      "text/plain": [
       "[<matplotlib.lines.Line2D at 0x11fba59c0>]"
      ]
     },
     "execution_count": 72,
     "metadata": {},
     "output_type": "execute_result"
    },
    {
     "data": {
      "image/png": "[encoded data removed]",
      "text/plain": [
       "<Figure size 640x480 with 1 Axes>"
      ]
     },
     "metadata": {},
     "output_type": "display_data"
    }
   ],
   "source": [
    "import matplotlib.pyplot as plt\n",
    "\n",
    "nsteps = 1000\n",
    "draws = np.random.randint(0,2,size=nsteps)\n",
    "steps = np.where(draws > 0,1,-1)\n",
    "walk = steps.cumsum()\n",
    "\n",
    "plt.plot(walk[:100])"
   ]
  },
  {
   "cell_type": "markdown",
   "id": "7907b6f1-a723-4dc5-b432-e1864c84b6ff",
   "metadata": {},
   "source": [
    "### Example: Simulating Many Random Walks at Once"
   ]
  },
  {
   "cell_type": "code",
   "execution_count": 74,
   "id": "08e75573-299d-46d4-bc4e-230684be86a9",
   "metadata": {},
   "outputs": [
    {
     "name": "stdout",
     "output_type": "stream",
     "text": [
      "[[  1   0  -1 ...  18  19  18]\n",
      " [ -1   0   1 ...  18  19  18]\n",
      " [  1   2   1 ... -16 -17 -16]\n",
      " ...\n",
      " [  1   0  -1 ...  14  15  16]\n",
      " [  1   2   3 ...  40  39  38]\n",
      " [  1   0   1 ...  12  13  14]]\n"
     ]
    }
   ],
   "source": [
    "nwalks = 5000\n",
    "nsteps = 1000\n",
    "draws = np.random.randint(0,2, size=(nwalks,nsteps))\n",
    "steps = np.where(draws>0,1,-1)\n",
    "walks = steps.cumsum(1)\n",
    "print(walks)"
   ]
  },
  {
   "cell_type": "code",
   "execution_count": null,
   "id": "fccad9cd-e13f-4f20-bc55-2cc4465c85ee",
   "metadata": {},
   "outputs": [],
   "source": []
  }
 ],
 "metadata": {
  "kernelspec": {
   "display_name": "Python 3 (ipykernel)",
   "language": "python",
   "name": "python3"
  },
  "language_info": {
   "codemirror_mode": {
    "name": "ipython",
    "version": 3
   },
   "file_extension": ".py",
   "mimetype": "text/x-python",
   "name": "python",
   "nbconvert_exporter": "python",
   "pygments_lexer": "ipython3",
   "version": "3.10.9"
  }
 },
 "nbformat": 4,
 "nbformat_minor": 5
}
