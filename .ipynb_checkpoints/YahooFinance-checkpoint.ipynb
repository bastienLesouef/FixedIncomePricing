{
 "cells": [
  {
   "cell_type": "markdown",
   "id": "711f513a-cbc3-43cd-b00f-83bc9baa8730",
   "metadata": {},
   "source": [
    "# Yahoo Finance program\n",
    "\n",
    "The aim of this notebook is to show how to use the **yahoo finance python package**"
   ]
  },
  {
   "cell_type": "code",
   "execution_count": null,
   "id": "a16ba1a1-4d03-4f66-b498-70f649200fa1",
   "metadata": {},
   "outputs": [],
   "source": []
  }
 ],
 "metadata": {
  "kernelspec": {
   "display_name": "Python 3 (ipykernel)",
   "language": "python",
   "name": "python3"
  },
  "language_info": {
   "codemirror_mode": {
    "name": "ipython",
    "version": 3
   },
   "file_extension": ".py",
   "mimetype": "text/x-python",
   "name": "python",
   "nbconvert_exporter": "python",
   "pygments_lexer": "ipython3",
   "version": "3.10.9"
  }
 },
 "nbformat": 4,
 "nbformat_minor": 5
}
