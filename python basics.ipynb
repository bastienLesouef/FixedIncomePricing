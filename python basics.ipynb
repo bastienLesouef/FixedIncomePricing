{
 "cells": [
  {
   "cell_type": "markdown",
   "id": "a56d5133-ae8d-4d78-9abf-2604b4d51946",
   "metadata": {},
   "source": [
    "## create a short animation with print() function"
   ]
  },
  {
   "cell_type": "code",
   "execution_count": 1,
   "id": "9c50a98d-ee3f-4187-944f-7c4723d239a7",
   "metadata": {},
   "outputs": [
    {
     "name": "stdout",
     "output_type": "stream",
     "text": [
      "********\n",
      " ********\n",
      "  ********\n",
      "   ********\n",
      "    ********\n",
      "     ********\n",
      "      ********\n",
      "       ********\n",
      "        ********\n",
      "         ********\n",
      "          ********\n",
      "         ********\n",
      "        ********\n",
      "       ********\n",
      "      ********\n",
      "     ********\n",
      "    ********\n",
      "   ********\n",
      "  ********\n",
      " ********\n"
     ]
    }
   ],
   "source": [
    "\n",
    "import time, sys\n",
    "indent = 0 # How many spaces to indent.\n",
    "indentIncreasing = True # Whether the indentation is increasing or not.\n",
    "nb_max_series = 20\n",
    "count = 0\n",
    "try:\n",
    "    while True and count < nb_max_series : # The main program loop.\n",
    "        print( ' ' * indent + '********', end='')\n",
    "        print('')\n",
    "        time.sleep(0.2) # Pause for 1/10 of a second.\n",
    "        if indentIncreasing:\n",
    "            # Increase the number of spaces:\n",
    "            indent = indent + 1\n",
    "            if indent == 10:\n",
    "                # Change direction:\n",
    "                indentIncreasing = False\n",
    "        else:\n",
    "            # Decrease the number of spaces:\n",
    "            indent = indent - 1\n",
    "        if indent == 0:\n",
    "            # Change direction:\n",
    "            indentIncreasing = True\n",
    "        count = count + 1\n",
    "except KeyboardInterrupt:\n",
    "    sys.exit()"
   ]
  },
  {
   "cell_type": "markdown",
   "id": "24bf3440-f4b9-4805-b34f-6cd2e798aa94",
   "metadata": {},
   "source": [
    "# 4 - Lists"
   ]
  },
  {
   "cell_type": "code",
   "execution_count": 2,
   "id": "598fc04d-3297-475c-8d4d-22f01f562a4f",
   "metadata": {},
   "outputs": [
    {
     "name": "stdout",
     "output_type": "stream",
     "text": [
      "rat\n"
     ]
    }
   ],
   "source": [
    "list_animal = ['cat', 'dog', 'rat']\n",
    "print(list_animal[-1]) # return the last element"
   ]
  },
  {
   "cell_type": "code",
   "execution_count": 4,
   "id": "b83f04a5-c194-4ec6-a123-ad309de63ab5",
   "metadata": {},
   "outputs": [
    {
     "name": "stdout",
     "output_type": "stream",
     "text": [
      "Enter the name of cat 1 (Or enter nothing to stop.):\n"
     ]
    },
    {
     "name": "stdin",
     "output_type": "stream",
     "text": [
      " mandarine\n"
     ]
    },
    {
     "name": "stdout",
     "output_type": "stream",
     "text": [
      "Enter the name of cat 2 (Or enter nothing to stop.):\n"
     ]
    },
    {
     "name": "stdin",
     "output_type": "stream",
     "text": [
      " \n"
     ]
    },
    {
     "name": "stdout",
     "output_type": "stream",
     "text": [
      "The cat names are:\n",
      " mandarine\n"
     ]
    }
   ],
   "source": [
    "#\n",
    "# code to fill a list with cat name given by the user.\n",
    "#\n",
    "catNames = []\n",
    "while True:\n",
    "    print('Enter the name of cat ' + str(len(catNames) + 1) +\n",
    "    ' (Or enter nothing to stop.):')\n",
    "    name = input()\n",
    "    if name == '':\n",
    "        break\n",
    "    catNames = catNames + [name] # list concatenation\n",
    "print('The cat names are:')\n",
    "for name in catNames:\n",
    "    print(' ' + name)\n",
    "    "
   ]
  },
  {
   "cell_type": "code",
   "execution_count": 5,
   "id": "5d374fbe-8f89-46e0-985a-23f1f7930225",
   "metadata": {},
   "outputs": [
    {
     "name": "stdout",
     "output_type": "stream",
     "text": [
      "Enter a pet name:\n"
     ]
    },
    {
     "name": "stdin",
     "output_type": "stream",
     "text": [
      " mandarine\n"
     ]
    },
    {
     "name": "stdout",
     "output_type": "stream",
     "text": [
      "mandarine is my pet.\n"
     ]
    }
   ],
   "source": [
    "myPets = ['mandarine', 'tika', 'hector']\n",
    "\n",
    "print('Enter a pet name:')\n",
    "name = input()\n",
    "\n",
    "if name not in myPets:\n",
    "    print('I do not have a pet named ' + name)\n",
    "else:\n",
    "    print(name + ' is my pet.')\n"
   ]
  },
  {
   "cell_type": "markdown",
   "id": "9ec11b0a-6006-4eab-8a8e-6bf06a5b1a5d",
   "metadata": {},
   "source": [
    "The **multiple assignment trick** (technically called tuple unpacking) is a shortcut that lets you assign\n",
    "multiple variables with the values in a list in one line of code.\n",
    "The number of variables and the length of the list must be exactly equal, or Python will give you a valueError."
   ]
  },
  {
   "cell_type": "code",
   "execution_count": 7,
   "id": "3f2826f4-6e2e-4055-84be-58571cc086b7",
   "metadata": {},
   "outputs": [
    {
     "name": "stdout",
     "output_type": "stream",
     "text": [
      "['mandarine', 'tika', 'hector']\n",
      "mandarine\n",
      "tika\n",
      "hector\n"
     ]
    }
   ],
   "source": [
    "cat = ['mandarine', 'tika', 'hector']\n",
    "size, color, disposition = cat\n",
    "\n",
    "print(cat)\n",
    "print(size) \n",
    "print(color) \n",
    "print(disposition)"
   ]
  },
  {
   "cell_type": "markdown",
   "id": "544b972b-ef29-4c8b-ab41-f255f744dc2c",
   "metadata": {},
   "source": [
    "## Using the enumerate() function with list ##\n",
    "Instead of using the range(len(someList)) technique with a for loop to obtain the integer index of the items in the list, you can call the **enumerate()** function instead. On each iteration of the loop, **enumerate()** will return two values: the index of the item in the list, and the item in the list itself"
   ]
  },
  {
   "cell_type": "code",
   "execution_count": 9,
   "id": "94e49247-cbe4-4f5a-afed-10207cf5b084",
   "metadata": {},
   "outputs": [
    {
     "name": "stdout",
     "output_type": "stream",
     "text": [
      "Index 0 in supplies is: pens\n",
      "Index 1 in supplies is: staplers\n",
      "Index 2 in supplies is: flamethrowers\n",
      "Index 3 in supplies is: binders\n"
     ]
    }
   ],
   "source": [
    "supplies = ['pens', 'staplers' , 'flamethrowers', 'binders']\n",
    "for index, item in enumerate(supplies):\n",
    "    print('Index ' + str(index) + ' in supplies is: ' + item)\n"
   ]
  },
  {
   "cell_type": "markdown",
   "id": "a6fc4da6-f822-450b-beab-d6effc509509",
   "metadata": {},
   "source": [
    "## Finding a Value in a List with the index() Method"
   ]
  },
  {
   "cell_type": "code",
   "execution_count": 10,
   "id": "19688bf7-bbfc-4b5d-a88f-160869ab2689",
   "metadata": {},
   "outputs": [
    {
     "name": "stdout",
     "output_type": "stream",
     "text": [
      "0\n"
     ]
    }
   ],
   "source": [
    "cat = ['mandarine', 'tika', 'hector']\n",
    "print(cat.index('mandarine'))\n"
   ]
  },
  {
   "cell_type": "markdown",
   "id": "df34297b-3b2f-4f33-8940-1b2f05cc067f",
   "metadata": {},
   "source": [
    "## Adding Values to Lists with the append() and insert() Methods"
   ]
  },
  {
   "cell_type": "code",
   "execution_count": 11,
   "id": "1e297b76-87b5-48d8-ac41-e096badeeece",
   "metadata": {},
   "outputs": [
    {
     "name": "stdout",
     "output_type": "stream",
     "text": [
      "['mandarine', 'tika', 'hector']\n",
      "['mandarine', 'tika', 'hector', 'bobo']\n",
      "['mandarine', 'nono', 'tika', 'hector', 'bobo']\n"
     ]
    }
   ],
   "source": [
    "cat = ['mandarine', 'tika', 'hector']\n",
    "print(cat)\n",
    "\n",
    "# add bobo at the end of the list\n",
    "cat.append('bobo')\n",
    "print(cat)\n",
    "\n",
    "# The insert() method can insert value at any index in the list. \n",
    "cat.insert(1,'nono')\n",
    "print(cat)\n"
   ]
  },
  {
   "cell_type": "markdown",
   "id": "0c6dea65-0551-4c2f-beb9-cf4f664de8dd",
   "metadata": {},
   "source": [
    "## Removing Values from Lists with the remove() Method"
   ]
  },
  {
   "cell_type": "code",
   "execution_count": 12,
   "id": "7644cf3c-d80b-4656-950c-6deb2753ca11",
   "metadata": {},
   "outputs": [
    {
     "name": "stdout",
     "output_type": "stream",
     "text": [
      "['mandarine', 'tika', 'hector']\n",
      "['mandarine', 'tika']\n"
     ]
    }
   ],
   "source": [
    "cat = ['mandarine', 'tika', 'hector']\n",
    "print(cat)\n",
    "\n",
    "# we remove hector\n",
    "cat.remove('hector')\n",
    "print(cat)"
   ]
  },
  {
   "cell_type": "markdown",
   "id": "283380e3-db8a-4d07-a754-d6a3d30d3145",
   "metadata": {},
   "source": [
    "## Sorting the Values in a List with the sort() Method"
   ]
  },
  {
   "cell_type": "code",
   "execution_count": 13,
   "id": "9dc37b5d-e7db-4fa1-98b1-979416d13b4e",
   "metadata": {},
   "outputs": [
    {
     "name": "stdout",
     "output_type": "stream",
     "text": [
      "[1, 10, 5, 8, 2, 0]\n",
      "[0, 1, 2, 5, 8, 10]\n"
     ]
    }
   ],
   "source": [
    "spam = [1, 10,5,8,2,0]\n",
    "print(spam)\n",
    "\n",
    "# we sort the list\n",
    "spam.sort()\n",
    "print(spam)\n"
   ]
  },
  {
   "cell_type": "markdown",
   "id": "8813c467-0d5a-445d-8f45-a4f009e6da05",
   "metadata": {},
   "source": [
    "## The tuple Data Type\n",
    "The tuple data type is almost identical to the list data type, except in two ways. First, tuples are typed with parentheses, ( and ), instead of square brackets, [ and ]. But the main way that tuples are different from lists is that tuples, like strings, are immutable. Tuples cannot have their values modified, appended, or removed. If you have only one value in your tuple, you can indicate this by placing a trailing comma after the value inside the parentheses. "
   ]
  },
  {
   "cell_type": "code",
   "execution_count": 17,
   "id": "5cf06fd1-f51a-447f-812c-1ff49cae275a",
   "metadata": {},
   "outputs": [
    {
     "name": "stdout",
     "output_type": "stream",
     "text": [
      "('hello', 42, 0.5)\n",
      "<class 'str'>\n",
      "<class 'tuple'>\n"
     ]
    }
   ],
   "source": [
    "# create a tupple with ()\n",
    "eggs = ('hello', 42, 0.5)\n",
    "print(eggs)\n",
    "\n",
    "#eggs[1] will return an error because tupple is immutable.\n",
    "\n",
    "# use a coma in () to define a typle for a unique variable:\n",
    "print(type(('hello')))\n",
    "print(type(('hello',)))"
   ]
  },
  {
   "cell_type": "markdown",
   "id": "4e0bbda3-3c0c-424d-a143-36c9e90e5e14",
   "metadata": {},
   "source": [
    "## Converting Types with the list() and tuple() functions"
   ]
  },
  {
   "cell_type": "code",
   "execution_count": null,
   "id": "c397983e-d024-4079-9faa-a664fc741a08",
   "metadata": {},
   "outputs": [],
   "source": [
    "# create a tupple with ()\n",
    "eggs = ('hello', 42, 0.5)\n",
    "print(type(eggs))\n",
    "\n",
    "# convert the tupple into a list with list() function\n",
    "eggs = list(eggs)\n",
    "print(type(eggs))\n",
    "\n",
    "# convert a string into a list\n",
    "print(list('hello'))"
   ]
  },
  {
   "cell_type": "markdown",
   "id": "cdb3003d-4b03-4882-bd8a-bec0c0f6ff15",
   "metadata": {},
   "source": [
    "## References\n",
    "Technically, variables are storing references to the computer memory locations where the values are stored.\n"
   ]
  },
  {
   "cell_type": "code",
   "execution_count": 24,
   "id": "bd6df26e-733b-4372-a016-8e51943a182c",
   "metadata": {},
   "outputs": [
    {
     "name": "stdout",
     "output_type": "stream",
     "text": [
      "cheese value is 42\n",
      "spam value is 42\n",
      "cheese value is 42\n",
      "spam value is 100\n"
     ]
    }
   ],
   "source": [
    "spam = 42\n",
    "cheese = spam\n",
    "print(\"cheese value is {}\".format(cheese))\n",
    "print(\"spam value is {}\".format(spam))\n",
    "\n",
    "# we change the value of spam and we print again\n",
    "spam = 100\n",
    "\n",
    "# this does not change the value of cheese bacause integer are immutable\n",
    "print(\"cheese value is {}\".format(cheese))\n",
    "print(\"spam value is {}\".format(spam))"
   ]
  },
  {
   "cell_type": "markdown",
   "id": "fd38243b-4489-45f0-9257-9430aa081374",
   "metadata": {},
   "source": [
    "But lists don’t work this way, because list values can change; that is, lists are mutable:\n",
    "When you create the list ➊, you assign a reference to it in the spam variable. But the next line ➋ copies only the list reference in spam to cheese, not the list value itself. This means the values stored in spam and cheese."
   ]
  },
  {
   "cell_type": "code",
   "execution_count": 28,
   "id": "7c872f88-3ad5-4f35-b4d3-ec28e7f1dc03",
   "metadata": {},
   "outputs": [
    {
     "name": "stdout",
     "output_type": "stream",
     "text": [
      "cheese value is [0, 1, 2, 3, 4, 5]\n",
      "spam value is [0, 1, 2, 3, 4, 5]\n",
      "cheese value is [0, 'hello', 2, 3, 4, 5]\n",
      "spam value is [0, 'hello', 2, 3, 4, 5]\n"
     ]
    }
   ],
   "source": [
    "spam = [0,1,2,3,4,5]\n",
    "cheese = spam\n",
    "print(\"cheese value is {}\".format(cheese))\n",
    "print(\"spam value is {}\".format(spam))\n",
    "\n",
    "# we change the value of cheese and we print again\n",
    "cheese[1] = 'hello'\n",
    "\n",
    "# this does change the value of spam bacause list are mutable\n",
    "print(\"cheese value is {}\".format(cheese))\n",
    "print(\"spam value is {}\".format(spam))"
   ]
  },
  {
   "cell_type": "markdown",
   "id": "1cb4b5c9-9b12-490a-be24-1a52c0a469cd",
   "metadata": {},
   "source": [
    "## Identity and the id() Function\n",
    "All values in Python have a unique identity that can be obtained with the id() function.\n",
    "When Python runs id('Howdy'), it creates the 'Howdy' string in the computer’s memory. The numeric memory address where the string is stored is returned by the id() function. Python picks this address based on which memory bytes happen to be free on your computer at the time, so it’ll be different each time you run this code."
   ]
  },
  {
   "cell_type": "code",
   "execution_count": 31,
   "id": "c4d8828f-5092-48b8-84ad-71ccf9f96cbb",
   "metadata": {},
   "outputs": [
    {
     "name": "stdout",
     "output_type": "stream",
     "text": [
      "4439145136\n"
     ]
    }
   ],
   "source": [
    "print(id('Howdy'))"
   ]
  },
  {
   "cell_type": "markdown",
   "id": "cba5bb58-3ff0-4918-870e-6bd1e39a0123",
   "metadata": {},
   "source": [
    "If you “change” the string in a variable, a new string object is being made at a different place in memory, and the variable refers to this new string (because string are immutable). "
   ]
  },
  {
   "cell_type": "code",
   "execution_count": 32,
   "id": "7725ae40-3212-4e08-acde-ad0ad98afe28",
   "metadata": {},
   "outputs": [
    {
     "name": "stdout",
     "output_type": "stream",
     "text": [
      "4383473072\n",
      "4439063280\n"
     ]
    }
   ],
   "source": [
    "bacon = 'hello'\n",
    "print(id(bacon))\n",
    "bacon += ' world'\n",
    "print(id(bacon))"
   ]
  },
  {
   "cell_type": "markdown",
   "id": "7a085802-c444-4bcf-a0fe-c854621596ce",
   "metadata": {},
   "source": [
    "However, lists can be modified because they are mutable objects. The append() method doesn’t cretea a new list object; it changes the existing list object. We call this “modifying the object in-place.” \n",
    "\n",
    "If two variables refer to the same list (like spam and cheese in the previous section) and the list value itself changes, both variables are affected because they both refer to the same list. The append(), extend(), remove(), sort(), reverse(), and other list methods modify their lists in place"
   ]
  },
  {
   "cell_type": "code",
   "execution_count": 36,
   "id": "836999f9-a33f-4e58-bf53-6062aa0a9b0c",
   "metadata": {},
   "outputs": [
    {
     "name": "stdout",
     "output_type": "stream",
     "text": [
      "4451426048\n",
      "4451426048\n",
      "4430541120\n"
     ]
    }
   ],
   "source": [
    "eggs = ['cat', 'dog']     # create a list\n",
    "print(id(eggs))\n",
    "\n",
    "eggs.append('moose')\n",
    "print(id(eggs))           # still refer to the same list\n",
    "\n",
    "eggs = ['bobo', 'bibi']   # create a new list which has a new identity\n",
    "print(id(eggs))           # eggs now refer to a new list"
   ]
  },
  {
   "cell_type": "markdown",
   "id": "0ff24102-f694-4897-bbfe-3451e6963252",
   "metadata": {},
   "source": [
    "## Passing References\n",
    "\n",
    "References are particularly important for understanding how arguments get passed to functions. When a function is called, the values of the arguments are copied to the parameter variables. For lists (and dictionaries) this means a copy of the reference is used for the parameter. "
   ]
  },
  {
   "cell_type": "code",
   "execution_count": 40,
   "id": "ab314977-036e-419c-829f-6177724036ae",
   "metadata": {},
   "outputs": [
    {
     "name": "stdout",
     "output_type": "stream",
     "text": [
      "[1, 2, 3]\n",
      "None\n"
     ]
    }
   ],
   "source": [
    "def eggs(some_parameters):\n",
    "    some_parameters.append('Hello')\n",
    "    \n",
    "# we create a list\n",
    "spam = [1,2,3]\n",
    "\n",
    "# the fuction eggs modify the list\n",
    "print(spam)\n",
    "print(eggs(spam))\n"
   ]
  },
  {
   "cell_type": "markdown",
   "id": "3d9d310b-9ee7-4bf5-b3d6-b9b132a5be51",
   "metadata": {},
   "source": [
    "## The copy module's copy() and deepcopy() functions\n",
    "\n",
    "If the function modifies the list or dictionary that is passed, you may not want these changes in the original list or dictionary value. copy.copy(), can be used to make a duplicate copy of mutable value like a list or dictionary, not just copy of a a reference.\n",
    "\n",
    "If the list you need to copy contains lists, then use the copy.deepcopy() function instead of copy.copy(). The deepcopy() function will copy these inner lists as well."
   ]
  },
  {
   "cell_type": "code",
   "execution_count": 41,
   "id": "5e406c43-4312-476c-80e9-481eb16e25c8",
   "metadata": {},
   "outputs": [
    {
     "name": "stdout",
     "output_type": "stream",
     "text": [
      "4388647360\n",
      "4396163264\n",
      "['A', 42, 'C']\n",
      "['A', 'B', 'C']\n"
     ]
    }
   ],
   "source": [
    "import copy\n",
    "\n",
    "spam = ['A', 'B','C']\n",
    "print(id(spam))\n",
    "\n",
    "# we create a soft copy of spam\n",
    "cheese = copy.copy(spam)\n",
    "print(id(cheese))\n",
    "\n",
    "# we modify cheese and because cheese is only a \n",
    "# copy of spam this will not affect spam\n",
    "cheese[1] = 42\n",
    "print(cheese)\n",
    "print(spam)"
   ]
  },
  {
   "cell_type": "markdown",
   "id": "25364f31-7885-4168-be86-d9e7a6844e18",
   "metadata": {},
   "source": [
    "## A short Program: Conway's game of life\n",
    "Conway’s Game of Life is an example of cellular a automata: a set of rules governing the behavior of a field made up of discrete cells. In practice, it creates a pretty animation to look at. You can draw out each step on graphpaper, using the squares as cells. A filled-in square will be “alive” and an empty square will be “dead.” If a living square has two or three living neighbors, it continues to live on the next step. If a dead square has exactly three living neighbors, it comes alive on the next step. \n",
    "\n",
    "We can use a list of list to represent the two-dimensional filed. The inner list represents each column of squares and stores a '#' hash string for living squares and a ' ' space string for dead squares.\n"
   ]
  },
  {
   "cell_type": "markdown",
   "id": "0bc9b8b1-fd48-41ed-82f9-05401332ee27",
   "metadata": {},
   "source": [
    "# 5 - Dictionaries and Structuring Data"
   ]
  },
  {
   "cell_type": "markdown",
   "id": "aae681a9-7a1e-4ece-bf54-07f5423e0f7e",
   "metadata": {},
   "source": [
    "## The dictionary Data Type\n",
    "\n",
    "Like a list, a dictionary is a mutable collection of many aalues. But unlike indexes for lists, indexes for dictionaries can use many different data types, not just integers. Indexes for dictionaries are called keys, and a key with its associated value is called key-value pair.\n"
   ]
  },
  {
   "cell_type": "code",
   "execution_count": 43,
   "id": "38a74183-82ff-44f0-918d-d074b83e3d20",
   "metadata": {},
   "outputs": [
    {
     "name": "stdout",
     "output_type": "stream",
     "text": [
      "fat\n"
     ]
    }
   ],
   "source": [
    "my_cat = {'size': 'fat', 'color': 'grey'}\n",
    "print(my_cat['size'])"
   ]
  },
  {
   "cell_type": "code",
   "execution_count": 46,
   "id": "285f098e-dc88-40e7-ac33-e1037c071c65",
   "metadata": {},
   "outputs": [
    {
     "name": "stdout",
     "output_type": "stream",
     "text": [
      "enter a name: (blank to quit)\n"
     ]
    },
    {
     "name": "stdin",
     "output_type": "stream",
     "text": [
      " bastien\n"
     ]
    },
    {
     "name": "stdout",
     "output_type": "stream",
     "text": [
      "I do not have birthday information for bastien\n",
      "What is their birthday?\n"
     ]
    },
    {
     "name": "stdin",
     "output_type": "stream",
     "text": [
      " Dec 17\n"
     ]
    },
    {
     "name": "stdout",
     "output_type": "stream",
     "text": [
      "Birthday database updated\n",
      "enter a name: (blank to quit)\n"
     ]
    },
    {
     "name": "stdin",
     "output_type": "stream",
     "text": [
      " bastien\n"
     ]
    },
    {
     "name": "stdout",
     "output_type": "stream",
     "text": [
      "Dec 17 is the birthday of bastien\n",
      "enter a name: (blank to quit)\n"
     ]
    },
    {
     "name": "stdin",
     "output_type": "stream",
     "text": [
      " \n"
     ]
    }
   ],
   "source": [
    "birthdays = {'Alice': 'Aprl 1', 'Bob': 'Dec 12'}\n",
    "\n",
    "while True:\n",
    "    print('enter a name: (blank to quit)')\n",
    "    name = input()\n",
    "    if name == '':\n",
    "        break\n",
    "\n",
    "    if name in birthdays:\n",
    "        print(birthdays[name] + ' is the birthday of ' + name)\n",
    "    else:\n",
    "        print('I do not have birthday information for ' + name)\n",
    "        print('What is their birthday?')\n",
    "        bday = input()\n",
    "        birthdays[name] = bday\n",
    "        print('Birthday database updated')\n",
    "\n"
   ]
  },
  {
   "cell_type": "markdown",
   "id": "e5f26caa-4a2c-4758-937a-9554fe7d6218",
   "metadata": {},
   "source": [
    "## The keys(), values() and items() methods\n",
    "\n",
    "The values returned by these methods are not true lists: \n",
    "they cannot be modified and do not have an append() method. But these data types (dict_keys, dict_values and dict_items , respectively) can be used in for loops.\n"
   ]
  },
  {
   "cell_type": "code",
   "execution_count": 50,
   "id": "229b6f49-eef2-4e30-b569-4d43f3a60926",
   "metadata": {},
   "outputs": [
    {
     "name": "stdout",
     "output_type": "stream",
     "text": [
      "red\n",
      "42\n",
      "----------------\n",
      "color\n",
      "age\n",
      "----------------\n",
      "('color', 'red')\n",
      "('age', 42)\n",
      "----------------\n",
      "['color', 'age']\n",
      "<class 'list'>\n",
      "----------------\n",
      "key: color Value: red\n",
      "key: age Value: 42\n"
     ]
    }
   ],
   "source": [
    "spam = {'color': 'red', 'age': 42}\n",
    "\n",
    "for v in spam.values():\n",
    "    print(v)\n",
    "print('----------------')\n",
    "\n",
    "for k in spam.keys():\n",
    "    print(k)\n",
    "print('----------------')\n",
    "\n",
    "for i in spam.items():\n",
    "    print(i)\n",
    "print('----------------')\n",
    "\n",
    "# convert what the method return in a list:\n",
    "dict_to_list = list(spam.keys())\n",
    "print(dict_to_list)\n",
    "print(type(dict_to_list))\n",
    "print('----------------')\n",
    "\n",
    "# use the mutiple assignement trick in a for loop\n",
    "\n",
    "for k, v in spam.items():\n",
    "    print('key: ' + k + ' Value: ' + str(v))\n"
   ]
  },
  {
   "cell_type": "markdown",
   "id": "e8af5d77-1488-48d2-8e2a-4eccc73e962c",
   "metadata": {},
   "source": [
    "## Checking whether a key or value exist in a dictionary\n",
    "\n"
   ]
  },
  {
   "cell_type": "code",
   "execution_count": 53,
   "id": "9f956120-0b8d-4aa7-bf95-5218df529b2f",
   "metadata": {},
   "outputs": [
    {
     "name": "stdout",
     "output_type": "stream",
     "text": [
      "False\n",
      "True\n"
     ]
    }
   ],
   "source": [
    "spam = {'color': 'red', 'age': 42}\n",
    "print('name' in spam.keys())\n",
    "print('color' in spam.keys())"
   ]
  },
  {
   "cell_type": "markdown",
   "id": "c2b7cfbe-bd13-496d-803d-9ea49c3f048b",
   "metadata": {},
   "source": [
    "## The get() Method\n",
    "\n",
    "Fortunately, dictionaries have get() method that takes two arguments: the key of the value to retrieve and fallback value to return if that key does not exist.\n",
    "\n",
    "The setdefault() method: The first argument passed to the method is the key to check for, and the second argument is the value to set at that key if the key does not exist. If the key does exist, the setdefault() method returns the key’s value."
   ]
  },
  {
   "cell_type": "code",
   "execution_count": 57,
   "id": "9a51d000-b941-4d44-9320-15d7558d3a44",
   "metadata": {},
   "outputs": [
    {
     "name": "stdout",
     "output_type": "stream",
     "text": [
      "2\n",
      "0\n",
      "{'i': 4, 't': 2, ' ': 7, 'w': 1, 'a': 4, 's': 1, 'b': 1, 'r': 2, 'g': 1, 'h': 1, 'c': 1, 'o': 1, 'l': 2, 'd': 2, 'y': 1, 'n': 1, 'p': 1}\n"
     ]
    }
   ],
   "source": [
    "# use of get()\n",
    "picnic_items = {'apples': 5, 'cups': 2}\n",
    "print(picnic_items.get('cups',0))\n",
    "print(picnic_items.get('eggs',0))\n",
    "\n",
    "# the setdefault()\n",
    "message = 'it was a bright cold day in april'\n",
    "count = {}\n",
    "\n",
    "for character in message:\n",
    "    count.setdefault(character,0) # avoid error when the fist time the key is called\n",
    "    count[character] = count[character] + 1\n",
    "\n",
    "print(count)"
   ]
  },
  {
   "cell_type": "markdown",
   "id": "c470fcf5-697f-444d-b71e-4d2751899570",
   "metadata": {},
   "source": [
    "# 9 - Reading and Writing Files"
   ]
  },
  {
   "cell_type": "markdown",
   "id": "fbd5a67a-6b70-4e27-9560-9b5f07996767",
   "metadata": {},
   "source": [
    "## The current working directory"
   ]
  },
  {
   "cell_type": "code",
   "execution_count": 61,
   "id": "4e14ab5d-d406-498e-bdfd-b493894e6101",
   "metadata": {},
   "outputs": [
    {
     "name": "stdout",
     "output_type": "stream",
     "text": [
      "/Users/bastienlesouef/DevProject/Exercie\n",
      "/Users/bastienlesouef\n"
     ]
    }
   ],
   "source": [
    "from pathlib import Path\n",
    "import os\n",
    "\n",
    "# get the current working directory\n",
    "print(Path.cwd())\n",
    "\n",
    "# and change it with change drirectory with function os.chdir()\n",
    "# os.chdir(Path.home())\n",
    "print(Path.cwd())"
   ]
  },
  {
   "cell_type": "markdown",
   "id": "e53df5ca-3e39-4f22-b7c9-53d1a286ba33",
   "metadata": {},
   "source": [
    "## Creating new folders using the os.makedirs() function"
   ]
  },
  {
   "cell_type": "code",
   "execution_count": 88,
   "id": "4ab3af16-d80f-4f05-b33a-5958b40c7a2d",
   "metadata": {},
   "outputs": [
    {
     "name": "stdout",
     "output_type": "stream",
     "text": [
      "/Users/bastienlesouef/DevProject/Exercie\n",
      "True\n",
      "/Users/bastienlesouef/my/relative/path\n",
      "/Users/bastienlesouef/DevProject/Exercie/DevProject/Exercie\n",
      "/Users/bastienlesouef/DevProject/Exercie\n",
      "False\n",
      "True\n",
      "../../../../bastienlesouef\n"
     ]
    }
   ],
   "source": [
    "from pathlib import Path\n",
    "import os\n",
    "\n",
    "# get the current working directory\n",
    "print(Path.cwd())\n",
    "\n",
    "# control if the path is absolut or relative\n",
    "print(Path.cwd().is_absolute())\n",
    "\n",
    "# gets an absolute path using the home directory instead of the current working directory\n",
    "print(Path.home() / Path('my/relative/path'))\n",
    "\n",
    "# will return a string of the absolute path of the argument. This is an easy way to convert a relative path into an absolute one.\n",
    "print(os.path.abspath('DevProject/Exercie'))\n",
    "print(os.path.abspath('.'))\n",
    "\n",
    "# Calling os.path.isabs(path) will return True if the argument is an absolute path and False if it is a relative path.\n",
    "print(os.path.isabs('.')) # return false\n",
    "print(os.path.isabs(os.path.abspath('.'))) # return true\n",
    "\n",
    "# Calling os.path.relpath(path, start) will return a string of a relative path from the start path to path. \n",
    "# If start is not provided, the current working directory is used as the start path.\n",
    "print(os.path.relpath('/bastienlesouef' , '/Users/bastienlesouef/DevProject/Exercie'))\n",
    "\n"
   ]
  },
  {
   "cell_type": "markdown",
   "id": "ed72ee62-36f2-47f0-957c-fd0657b97858",
   "metadata": {},
   "source": [
    "## Getting the Parts of a file path"
   ]
  },
  {
   "cell_type": "code",
   "execution_count": null,
   "id": "9ce08048-9887-4171-ba51-1828d3ac2612",
   "metadata": {},
   "outputs": [],
   "source": [
    "from pathlib import Path\n",
    "\n",
    "# extract attribute of path from pathlib library object.\n",
    "p = Path('/Users/bastienlesouef/DevProject/Exercie/test.txt')\n",
    "print(p.anchor) # return / because mac of C:// windows\n",
    "print(p.parent) # return /Users/bastienlesouef/DevProject/Exercie\n",
    "print(p.name) # return the file name\n",
    "print(p.suffix) # return .txt\n",
    "print(p.drive)  # return nothing because mac else C: in windows\n",
    "\n",
    "# we can extract part of the path\n",
    "print(p.parents[0])\n",
    "print(p.parents[1])"
   ]
  },
  {
   "cell_type": "markdown",
   "id": "f2bcc534-38c0-4bb6-9697-46957bdd6404",
   "metadata": {},
   "source": [
    "From os library we can do similar manipulation. Calling os.path.dirname(path) will return a string of everything that comes before the last slash in the path argument. Calling os.path.basename(path) will return a string of everything that comes after the last slash in the path argument."
   ]
  },
  {
   "cell_type": "code",
   "execution_count": 111,
   "id": "3260dcf6-83f9-4623-91c1-cdd95607f275",
   "metadata": {},
   "outputs": [
    {
     "name": "stdout",
     "output_type": "stream",
     "text": [
      "/Users/bastienlesouef/DevProject\n",
      "Exercie\n"
     ]
    }
   ],
   "source": [
    "import os\n",
    "\n",
    "print(os.path.dirname(os.getcwd()))\n",
    "print(os.path.basename(os.getcwd()))"
   ]
  },
  {
   "cell_type": "markdown",
   "id": "ce4f0dac-0c85-4919-a6da-2be81cc1251a",
   "metadata": {},
   "source": [
    "If you need a path's dir name and base name together, you can just call os.path.split() to get a tuple value with these two strings. We can also return each part of the path in a list by using the split() string method and split on the string in os.sep:"
   ]
  },
  {
   "cell_type": "code",
   "execution_count": 114,
   "id": "67dbece4-096d-4b69-a642-d7b5d3547649",
   "metadata": {},
   "outputs": [
    {
     "name": "stdout",
     "output_type": "stream",
     "text": [
      "('/Users/bastienlesouef/DevProject/Exercie', 'test.txt')\n",
      "['', 'Users', 'bastienlesouef', 'DevProject', 'Exercie', 'test.txt']\n"
     ]
    }
   ],
   "source": [
    "import os\n",
    "\n",
    "full_path = '/Users/bastienlesouef/DevProject/Exercie/test.txt'\n",
    "print(os.path.split(full_path))\n",
    "\n",
    "print(full_path.split(os.sep))"
   ]
  },
  {
   "cell_type": "markdown",
   "id": "a1835118-3324-4032-81e6-5895269b6411",
   "metadata": {},
   "source": [
    "## Finding file sizes and folder contents\n",
    "\n",
    "Calling os.path.getsize(path) will return the size in bytes of the file in the path argument.\n",
    "Calling os.listdir(path) will return a list of file name strings for each file in the path argument (note that this function is in the os module, not os.path)."
   ]
  },
  {
   "cell_type": "code",
   "execution_count": 119,
   "id": "30c394ed-e251-4bb4-b204-b5be0f29972c",
   "metadata": {},
   "outputs": [
    {
     "name": "stdout",
     "output_type": "stream",
     "text": [
      "34612\n",
      "['learning.ipynb', '.DS_Store', '.ipynb_checkpoints']\n",
      "40856\n"
     ]
    }
   ],
   "source": [
    "# get the size of a specific file\n",
    "print(os.path.getsize('/Users/bastienlesouef/DevProject/Exercie/learning.ipynb'))\n",
    "\n",
    "# get in a list the name of the files in a specific path\n",
    "print(os.listdir('/Users/bastienlesouef/DevProject/Exercie'))\n",
    "\n",
    "# sum up the size of all element in a folder\n",
    "total_size = 0\n",
    "for filename in os.listdir('/Users/bastienlesouef/DevProject/Exercie'):\n",
    "    total_size += os.path.getsize(os.path.join('/Users/bastienlesouef/DevProject/Exercie', filename))\n",
    "print(total_size)\n"
   ]
  },
  {
   "cell_type": "markdown",
   "id": "97185ea8-e073-4181-b8c0-db63b0b6f23b",
   "metadata": {},
   "source": [
    "## Checking path validity\n",
    "\n",
    "Path objects have methods to check whether a given path exists and whether it is a file or folder. Assuming that variable p holds a Path object, you could expect the following:\n",
    "\n",
    "Calling p.exists() returns True if the path exists or returns False if it doesn’t exist.\n",
    "Calling p.is_file() returns True if the path exists and is a file, or returns False otherwise.\n",
    "Calling p.is_dir() returns True if the path exists and is a directory, or returns False otherwise."
   ]
  },
  {
   "cell_type": "code",
   "execution_count": 122,
   "id": "c54e02bc-e92c-4c9a-ae24-31f6b02d5061",
   "metadata": {},
   "outputs": [
    {
     "name": "stdout",
     "output_type": "stream",
     "text": [
      "True\n",
      "True\n",
      "False\n"
     ]
    }
   ],
   "source": [
    "from pathlib import Path\n",
    "\n",
    "win_dir = Path('/Users/bastienlesouef/DevProject/Exercie')\n",
    "print(win_dir.exists())\n",
    "print(win_dir.is_dir())\n",
    "print(win_dir.is_file())"
   ]
  },
  {
   "cell_type": "markdown",
   "id": "52ddd605-55be-4914-9a69-af2479037cbc",
   "metadata": {},
   "source": [
    "## The file reading/writing process\n",
    "\n",
    "### file reading"
   ]
  },
  {
   "cell_type": "code",
   "execution_count": 124,
   "id": "fb121c29-c060-4792-89a2-4d9737dcc9e6",
   "metadata": {},
   "outputs": [
    {
     "data": {
      "text/plain": [
       "'Hello world'"
      ]
     },
     "execution_count": 124,
     "metadata": {},
     "output_type": "execute_result"
    }
   ],
   "source": [
    "from pathlib import Path\n",
    "\n",
    "# create a txt file and write into it\n",
    "p = Path('spam.txt')\n",
    "p.write_text('Hello world')\n",
    "\n",
    "# read the file\n",
    "p.read_text()"
   ]
  },
  {
   "cell_type": "markdown",
   "id": "cab4fbd1-8ffe-4dbd-b746-c63e6b86dc28",
   "metadata": {},
   "source": [
    "The more common way of writing to a file involves using the open() function and file objects. There are three steps to reading or writing files in Python:\n",
    "\n",
    "* Call the open() function to return a file object.\n",
    "* Call the read() or write() method on the File object.\n",
    "* Close the file by calling the close() method on the File object.\n",
    "\n",
    "To open a file with the open() function, you pass it a string path indicating the file you want to open; it can be either anb asolute or relative path. The open() function returns a File object."
   ]
  },
  {
   "cell_type": "code",
   "execution_count": 141,
   "id": "77d05645-9e8b-4de1-b874-357daba98b3d",
   "metadata": {},
   "outputs": [
    {
     "name": "stdout",
     "output_type": "stream",
     "text": [
      "Hello world\n",
      "Quand le boubou\n",
      "Était grand et petit\n"
     ]
    }
   ],
   "source": [
    "hello_file = open(Path.cwd() / 'spam.txt')\n",
    "print(hello_file.read())"
   ]
  },
  {
   "cell_type": "markdown",
   "id": "f7510e3b-e4bc-43d9-85d5-f48c4b79a0ce",
   "metadata": {},
   "source": [
    "If you think of the contents of a file as a single large string value, the read() method returns the string that is stored in the file. Alternatively, you can use the readlines() method to get a list of string values from the file, one string for each line of text."
   ]
  },
  {
   "cell_type": "code",
   "execution_count": 143,
   "id": "deb2bbf1-c5b6-4bfb-8be9-df1be54b9481",
   "metadata": {},
   "outputs": [
    {
     "data": {
      "text/plain": [
       "['Hello world\\n', 'Quand le boubou\\n', 'Était grand et petit']"
      ]
     },
     "execution_count": 143,
     "metadata": {},
     "output_type": "execute_result"
    }
   ],
   "source": [
    "muli_line_file = open(Path.cwd() / 'spam.txt')\n",
    "muli_line_file.readlines()"
   ]
  },
  {
   "cell_type": "markdown",
   "id": "ce187aeb-8388-4756-81ac-c04660ce8707",
   "metadata": {},
   "source": [
    "### writing to files\n",
    "\n",
    "Write mode will overwrite the existing file. Pass 'w' as the second argument to open() to open the file in write mode.\n",
    "If the filename passed to open() does not exist, both write and append mode will create a new, blank file. After reading or writing a file, call the close() method before opening the file again."
   ]
  },
  {
   "cell_type": "code",
   "execution_count": 149,
   "id": "2a97e3ba-d4d9-468e-b71c-1af8255288b0",
   "metadata": {},
   "outputs": [
    {
     "name": "stdout",
     "output_type": "stream",
     "text": [
      "6\n",
      "25\n",
      "Hello\n",
      "bacon is not a vegetable.\n"
     ]
    }
   ],
   "source": [
    "# adding 'w' create a new file if it does not exist\n",
    "bacon_file = open('bacon.txt','w')\n",
    "print(bacon_file.write('Hello\\n')) # print the number of caractere written in the text.\n",
    "bacon_file.close()\n",
    "\n",
    "# we add a sentence with the key 'a' for append.\n",
    "bacon_file = open('bacon.txt','a')\n",
    "print(bacon_file.write('bacon is not a vegetable.'))\n",
    "bacon_file.close()\n",
    "\n",
    "# we finanly open the file in a read mode by adding 'r' or nothing like bacon_file = open('bacon.txt')\n",
    "bacon_file = open('bacon.txt', 'r')\n",
    "print(bacon_file.read())\n",
    "bacon_file.close()\n"
   ]
  },
  {
   "cell_type": "markdown",
   "id": "17ef7610-e112-4ec9-ba61-8d1f54f6b91a",
   "metadata": {},
   "source": [
    "## Saving variables with the shelve module\n",
    "\n",
    "We can save variables to binary shelf files using the shelve module. This way, your program can restore data to variables from the hard drive.\n",
    "* Call shelve.open() and pass it a filename, and then store the returned shelf value in variable. You can make changes to the shelf value as if it were a dictionary.\n",
    "* When you’re done, call close() on the shelf value. Here, our shelf value is stored in shelfFile.\n",
    "\n",
    "After running the previous code on Windows, you will see three new files in the current working directory: mydata.bak, mydata.dat, and mydata.dir. On macOS, only a single mydata.db file will be created.\n",
    "\n",
    "Plaintext is useful for creating files that you’ll read in a text editor such as Notepad, but if you want to save data from your Python programs, use the shelve module.\n"
   ]
  },
  {
   "cell_type": "code",
   "execution_count": 152,
   "id": "05f1898c-f276-4260-965f-9752fc28f17a",
   "metadata": {},
   "outputs": [],
   "source": [
    "import shelve\n",
    "\n",
    "shelf_file = shelve.open('mydata')\n",
    "cats = ['zophie', 'pooka', 'simon']\n",
    "shelf_file['cats']= cats\n",
    "shelf_file.close()"
   ]
  },
  {
   "cell_type": "markdown",
   "id": "fae10fbc-1ab1-41de-9d25-f728b2d51332",
   "metadata": {},
   "source": [
    "Your programs can use the shelve module to later reopen and retreive the data from the shelf files. Shelf values don't have to be opened in read or write mode, they can do both once opnened."
   ]
  },
  {
   "cell_type": "code",
   "execution_count": 155,
   "id": "e31f0547-9868-4681-b970-e85763bd3f59",
   "metadata": {},
   "outputs": [
    {
     "name": "stdout",
     "output_type": "stream",
     "text": [
      "<class 'shelve.DbfilenameShelf'>\n",
      "['zophie', 'pooka', 'simon']\n"
     ]
    }
   ],
   "source": [
    "shelf_file = shelve.open('mydata')\n",
    "print(type(shelf_file))\n",
    "print(shelf_file['cats'])\n",
    "shelf_file.close()"
   ]
  },
  {
   "cell_type": "markdown",
   "id": "b58bce65-936c-47d1-9d6a-db446c6a4bfa",
   "metadata": {},
   "source": [
    "Just like dictionaries, shelf values have keys() and values() methods that will return list-like values of the keys and values in the shelf. Since these methods return list-like values instead of true lists, you should pass them to the list() function to get them in list form."
   ]
  },
  {
   "cell_type": "code",
   "execution_count": 156,
   "id": "80e609a6-5817-4b5b-9479-57a839700b54",
   "metadata": {},
   "outputs": [
    {
     "name": "stdout",
     "output_type": "stream",
     "text": [
      "['cats']\n",
      "[['zophie', 'pooka', 'simon']]\n"
     ]
    }
   ],
   "source": [
    "shelf_file = shelve.open('mydata')\n",
    "print(list(shelf_file.keys()))\n",
    "print(list(shelf_file.values()))"
   ]
  },
  {
   "cell_type": "markdown",
   "id": "d2acc761-0650-4427-81ff-a0fa42e64877",
   "metadata": {},
   "source": [
    "# 11 - Debugging"
   ]
  },
  {
   "cell_type": "markdown",
   "id": "d75eb6f0-e26c-47f1-a8c0-55b2a7725ac7",
   "metadata": {},
   "source": [
    "# 12 - Web Scraping\n",
    "\n",
    "The webbrowser module’s open() function can launch a into the interactive shell: new browser to a specified URL. Enter the following:"
   ]
  },
  {
   "cell_type": "code",
   "execution_count": 158,
   "id": "7c10e772-2ec2-43c6-ac7a-ffa786c27b6c",
   "metadata": {},
   "outputs": [
    {
     "data": {
      "text/plain": [
       "True"
      ]
     },
     "execution_count": 158,
     "metadata": {},
     "output_type": "execute_result"
    }
   ],
   "source": [
    "import webbrowser\n",
    "webbrowser.open('https://inventwithpython.com/')"
   ]
  },
  {
   "cell_type": "markdown",
   "id": "83166ac4-a141-4177-aba3-68bda19d8052",
   "metadata": {},
   "source": [
    "## Dowloading a web page with the requests.get() function\n",
    "\n",
    "The requests.get() function takes a string of a URL to download. By calling type() on requests.get()’s return value, you can see that it returns a Response object, which contains the response that the web server gave for your request."
   ]
  },
  {
   "cell_type": "code",
   "execution_count": 165,
   "id": "bf2dffb6-4f10-46be-81f7-8f4f40d518ff",
   "metadata": {},
   "outputs": [
    {
     "name": "stdout",
     "output_type": "stream",
     "text": [
      "<class 'requests.models.Response'>\n",
      "True\n",
      "174126\n",
      "The Project Gutenberg EBook of Romeo and Juliet, by William Shakespeare\n",
      "\n",
      "This eBook is for the use of anyone anywhere at no cost and with\n",
      "almost no restrictions whatsoever.  You may copy it, give it away or\n",
      "re-use it under the terms of the Project Gutenberg License included\n",
      "with this eBook or online\n"
     ]
    }
   ],
   "source": [
    "import requests\n",
    "\n",
    "res = requests.get('https://automatetheboringstuff.com/files/rj.txt')\n",
    "print(type(res))\n",
    "\n",
    "# checking the status_code attribute of the Response object.\n",
    "# If it is equal to the value of requests.codes.ok, then everything went fine\n",
    "if res.status_code == requests.codes.ok:\n",
    "    print(True)\n",
    "\n",
    "# If the request succeeded, the downlodead web page is stored as a string in the Response object’s text variable.\n",
    "print(len(res.text))\n",
    "print(res.text[:300])"
   ]
  },
  {
   "cell_type": "markdown",
   "id": "54779997-6622-4297-b1c0-b94772936763",
   "metadata": {},
   "source": [
    "## Checking for errors\n",
    "\n",
    "The raise_for_status() method is a good way to ensure that a program halts if bad download occurs. This is agood thing: You want your program to stop as soon as some unexpected error happens. If failed download isn’t deal breaker for your program, you can wrap the raise_for_status() line with try and except statements to handle this error case without crashing."
   ]
  },
  {
   "cell_type": "code",
   "execution_count": 166,
   "id": "928ee046-2c18-4bf8-bc17-59abd4fa2025",
   "metadata": {},
   "outputs": [
    {
     "ename": "HTTPError",
     "evalue": "404 Client Error: Not Found for url: https://inventwithpython.com/page_that_does_not_exist",
     "output_type": "error",
     "traceback": [
      "\u001b[0;31m---------------------------------------------------------------------------\u001b[0m",
      "\u001b[0;31mHTTPError\u001b[0m                                 Traceback (most recent call last)",
      "Cell \u001b[0;32mIn[166], line 5\u001b[0m\n\u001b[1;32m      3\u001b[0m \u001b[38;5;66;03m# This will raise an exception if there was an error downloading the file and will do nothing if the download succeeded.\u001b[39;00m\n\u001b[1;32m      4\u001b[0m res \u001b[38;5;241m=\u001b[39m requests\u001b[38;5;241m.\u001b[39mget(\u001b[38;5;124m'\u001b[39m\u001b[38;5;124mhttps://inventwithpython.com/page_that_does_not_exist\u001b[39m\u001b[38;5;124m'\u001b[39m)\n\u001b[0;32m----> 5\u001b[0m \u001b[43mres\u001b[49m\u001b[38;5;241;43m.\u001b[39;49m\u001b[43mraise_for_status\u001b[49m\u001b[43m(\u001b[49m\u001b[43m)\u001b[49m\n\u001b[1;32m      7\u001b[0m \u001b[38;5;66;03m# or we can wrap the error\u001b[39;00m\n\u001b[1;32m      8\u001b[0m res \u001b[38;5;241m=\u001b[39m requests\u001b[38;5;241m.\u001b[39mget(\u001b[38;5;124m'\u001b[39m\u001b[38;5;124mhttps://inventwithpython.com/page_that_does_not_exist\u001b[39m\u001b[38;5;124m'\u001b[39m)\n",
      "File \u001b[0;32m~/anaconda3/lib/python3.10/site-packages/requests/models.py:1024\u001b[0m, in \u001b[0;36mResponse.raise_for_status\u001b[0;34m(self)\u001b[0m\n\u001b[1;32m   1019\u001b[0m     http_error_msg \u001b[38;5;241m=\u001b[39m (\n\u001b[1;32m   1020\u001b[0m         \u001b[38;5;124mf\u001b[39m\u001b[38;5;124m\"\u001b[39m\u001b[38;5;132;01m{\u001b[39;00m\u001b[38;5;28mself\u001b[39m\u001b[38;5;241m.\u001b[39mstatus_code\u001b[38;5;132;01m}\u001b[39;00m\u001b[38;5;124m Server Error: \u001b[39m\u001b[38;5;132;01m{\u001b[39;00mreason\u001b[38;5;132;01m}\u001b[39;00m\u001b[38;5;124m for url: \u001b[39m\u001b[38;5;132;01m{\u001b[39;00m\u001b[38;5;28mself\u001b[39m\u001b[38;5;241m.\u001b[39murl\u001b[38;5;132;01m}\u001b[39;00m\u001b[38;5;124m\"\u001b[39m\n\u001b[1;32m   1021\u001b[0m     )\n\u001b[1;32m   1023\u001b[0m \u001b[38;5;28;01mif\u001b[39;00m http_error_msg:\n\u001b[0;32m-> 1024\u001b[0m     \u001b[38;5;28;01mraise\u001b[39;00m HTTPError(http_error_msg, response\u001b[38;5;241m=\u001b[39m\u001b[38;5;28mself\u001b[39m)\n",
      "\u001b[0;31mHTTPError\u001b[0m: 404 Client Error: Not Found for url: https://inventwithpython.com/page_that_does_not_exist"
     ]
    }
   ],
   "source": [
    "import requests\n",
    "\n",
    "# This will raise an exception if there was an error downloading the file and will do nothing if the download succeeded.\n",
    "res = requests.get('https://inventwithpython.com/page_that_does_not_exist')\n",
    "res.raise_for_status()\n"
   ]
  },
  {
   "cell_type": "code",
   "execution_count": 167,
   "id": "a7b66bc2-b4db-4fb0-a3ec-c1f36c5cf0db",
   "metadata": {},
   "outputs": [
    {
     "name": "stdout",
     "output_type": "stream",
     "text": [
      "There was a problem: 404 Client Error: Not Found for url: https://inventwithpython.com/page_that_does_not_exist\n"
     ]
    }
   ],
   "source": [
    "import requests\n",
    "\n",
    "# or we can wrap the error\n",
    "res = requests.get('https://inventwithpython.com/page_that_does_not_exist')\n",
    "try:\n",
    "    res.raise_for_status()\n",
    "except Exception as exc:\n",
    "    print('There was a problem: %s' % (exc))"
   ]
  },
  {
   "cell_type": "markdown",
   "id": "642632de-398f-4c79-a734-430d40e2f815",
   "metadata": {},
   "source": [
    "## Saving downloaded files to the hard drive\n",
    "\n",
    "First, you must open the file in write binary mode by passing the string 'wb' as the second argument to open(). Even if the page is in plaintext (such as the Romeo and Juliet text you downloaded earlier), you need to write binary data instead of text data in order to maintain the Unicode encoding of the text.\n",
    "\n",
    "The iter_content() method returns “chunks” of the content on each iteration through the loop. Each chunk is of the bytes data type, and you get to specify how many bytes each chunk will contain. One hundred thousand bytes is generally a good size, so pass 100000 as the argument to iter_content()."
   ]
  },
  {
   "cell_type": "code",
   "execution_count": 169,
   "id": "90157ece-0f0a-4f33-8edd-22047f698db3",
   "metadata": {},
   "outputs": [],
   "source": [
    "import requests\n",
    "\n",
    "res = requests.get('https://automatetheboringstuff.com/files/rj.txt')\n",
    "res.raise_for_status()\n",
    "\n",
    "# create an empty text file and open it as write binary 'wb'\n",
    "play_file = open('RomeoAndJuliet.txt', 'wb')\n",
    "\n",
    "for chunk in res.iter_content(100000):\n",
    "    play_file.write(chunk)\n",
    "\n",
    "play_file.close()\n"
   ]
  },
  {
   "cell_type": "markdown",
   "id": "10281775-2e49-4af9-bc50-5f5088213669",
   "metadata": {},
   "source": [
    "# 13 - Working with excel spreadsheet"
   ]
  },
  {
   "cell_type": "code",
   "execution_count": 172,
   "id": "d58aba67-abf1-4c53-a51b-cdba2f05899d",
   "metadata": {},
   "outputs": [],
   "source": [
    "import openpyxl"
   ]
  },
  {
   "cell_type": "markdown",
   "id": "7792ef0a-d1fe-493f-a8d7-31782a533a66",
   "metadata": {},
   "source": [
    "## Opening excel document with OpenPyXl\n",
    "\n",
    "The openpyxl.load_workbook() function takes in the filename and returns a value of the workbook data type.\n",
    "You can get a list of all the sheet names in the workbook by accessing the sheetnames attribute."
   ]
  },
  {
   "cell_type": "code",
   "execution_count": null,
   "id": "fd3e548b-4f4d-4d79-99ae-299d2683b00d",
   "metadata": {},
   "outputs": [],
   "source": []
  }
 ],
 "metadata": {
  "kernelspec": {
   "display_name": "Python 3 (ipykernel)",
   "language": "python",
   "name": "python3"
  },
  "language_info": {
   "codemirror_mode": {
    "name": "ipython",
    "version": 3
   },
   "file_extension": ".py",
   "mimetype": "text/x-python",
   "name": "python",
   "nbconvert_exporter": "python",
   "pygments_lexer": "ipython3",
   "version": "3.10.9"
  }
 },
 "nbformat": 4,
 "nbformat_minor": 5
}
